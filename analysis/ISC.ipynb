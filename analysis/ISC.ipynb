{
 "cells": [
  {
   "cell_type": "code",
   "execution_count": 1,
   "metadata": {},
   "outputs": [
    {
     "name": "stderr",
     "output_type": "stream",
     "text": [
      "/usr/local/neurosoft/anaconda3/lib/python3.8/site-packages/nilearn/glm/__init__.py:55: FutureWarning: The nilearn.glm module is experimental. It may change in any future release of Nilearn.\n",
      "  warn('The nilearn.glm module is experimental. '\n"
     ]
    }
   ],
   "source": [
    "import os\n",
    "import json\n",
    "import subprocess\n",
    "import numpy as np\n",
    "import pandas as pd\n",
    "import pickle as pkl\n",
    "import nibabel as nib\n",
    "import scipy.io as sio\n",
    "import matplotlib as mpl\n",
    "import matplotlib.pyplot as plt\n",
    "from sklearn.metrics import pairwise_distances\n",
    "from os.path import join as pjoin\n",
    "from mpl_toolkits.axes_grid1 import make_axes_locatable\n",
    "from sklearn.preprocessing import StandardScaler\n",
    "from sklearn.linear_model import LinearRegression, Ridge, Lasso\n",
    "from nilearn.glm.first_level import make_first_level_design_matrix\n",
    "\n",
    "mpl.rcParams['axes.linewidth'] = 2\n",
    "mpl.rcParams.update({'font.size': 12, 'font.family': 'STIXGeneral', 'mathtext.fontset': 'stix'})\n",
    "\n",
    "# define path\n",
    "beta_path = '/nfs/z1/zhenlab/BrainImageNet/action/data/bold/derivatives/beta'\n",
    "fmriprep_path = '/nfs/z1/zhenlab/BrainImageNet/action/data/bold/derivatives/fmriprep'\n",
    "ciftify_path = '/nfs/z1/zhenlab/BrainImageNet/action/data/bold/derivatives/ciftify'\n",
    "nifti_path = '/nfs/z1/zhenlab/BrainImageNet/action/data/bold/nifti'"
   ]
  },
  {
   "cell_type": "code",
   "execution_count": 2,
   "metadata": {},
   "outputs": [
    {
     "name": "stdout",
     "output_type": "stream",
     "text": [
      "3551\n",
      "1244\n",
      "1349\n",
      "1140\n",
      "3736\n"
     ]
    }
   ],
   "source": [
    "def save_ciftifile(data, filename):\n",
    "    template = '/nfs/z1/zhenlab/BrainImageNet/NaturalObject/data/bold/Analysis_derivatives/ciftify/sub-core02/MNINonLinear/Results/ses-ImageNet01_task-object_run-1/ses-ImageNet01_task-object_run-1_Atlas.dtseries.nii'\n",
    "    ex_cii = nib.load(template)\n",
    "    ex_cii.header.get_index_map(0).number_of_series_points = data.shape[0]\n",
    "    nib.save(nib.Cifti2Image(data.astype(np.float32), ex_cii.header), filename)\n",
    "\n",
    "def roi_mask(roi_name):\n",
    "    \"\"\"\n",
    "        roi_name : list or str\n",
    "    \"\"\"\n",
    "    # load reference info\n",
    "    main_path = '/nfs/z1/zhenlab/BrainImageNet/Analysis_results/'\n",
    "    roi_name_path = pjoin(main_path, 'roilbl_mmp.csv')\n",
    "    roi_names = pd.read_csv(roi_name_path)\n",
    "    roi = sio.loadmat(pjoin(main_path, 'MMP_mpmLR32k.mat'))['glasser_MMP']  # 1x59412\n",
    "\n",
    "    # start load name\n",
    "    roi_index = []\n",
    "    if isinstance(roi_name, str):\n",
    "        roi_tmp_index = roi_names.loc[roi_names.isin([f'L_{roi_name}_ROI']).any(axis=1)].index[0]+1\n",
    "        roi_index.extend([roi_tmp_index, roi_tmp_index+180])\n",
    "        mask = np.asarray([True if x in roi_index else False for x in roi[0]])\n",
    "    else:\n",
    "        for name in roi_name:\n",
    "            roi_tmp_index = roi_names.loc[roi_names.isin([f'L_{name}_ROI']).any(axis=1)].index[0]+1\n",
    "            roi_index.extend([roi_tmp_index, roi_tmp_index+180])\n",
    "        mask = np.asarray([True if x in roi_index else False for x in roi[0]])\n",
    "    return mask\n",
    "\n",
    "# define path\n",
    "main_path = '/nfs/z1/zhenlab/BrainImageNet/Analysis_results/'\n",
    "\n",
    "EVC_name = ['V1', 'V2', 'V3']\n",
    "VTC_name = ['V8', 'PIT', 'FFC', 'VVC', 'VMV1', 'VMV2', 'VMV3']\n",
    "MT_name = ['V3CD', 'V4t', 'LO1', 'LO2', 'LO3', 'FST', 'MST', 'MT', 'PH']\n",
    "DS_name = ['V3A', 'V3B', 'V6', 'V6A', 'V7', 'IPS1']\n",
    "AIP_name = ['1', '2', '3a', '3b']\n",
    "# VPM_name = ['6r', 'IFJp', 'IFJa', 'IFSp', '44']\n",
    "\n",
    "roi_sum = ['EVC', 'VTC', 'MT', 'DS', 'AIP']\n",
    "for roi in roi_sum:\n",
    "    exec(f'{roi}_mask = roi_mask({roi}_name)')\n",
    "    print(eval(f'{roi}_mask').sum())\n"
   ]
  },
  {
   "cell_type": "markdown",
   "metadata": {},
   "source": [
    "Correlation distance across subjects. Here distinguishes same or different categories."
   ]
  },
  {
   "cell_type": "code",
   "execution_count": 4,
   "metadata": {},
   "outputs": [
    {
     "name": "stdout",
     "output_type": "stream",
     "text": [
      "EVC same image distance: 0.984\n",
      "EVC different image distance: 1.000\n",
      "DS same image distance: 0.978\n",
      "DS different image distance: 1.000\n",
      "VTC same image distance: 0.976\n",
      "VTC different image distance: 1.000\n",
      "MT same image distance: 0.957\n",
      "MT different image distance: 1.000\n",
      "AIP same image distance: 0.974\n",
      "AIP different image distance: 1.000\n"
     ]
    }
   ],
   "source": [
    "from scipy.stats import pearsonr\n",
    "from scipy.spatial.distance import pdist, squareform\n",
    "from sklearn.metrics import pairwise_distances\n",
    "\n",
    "# Load beta for 30 subjects \n",
    "sub_names = sorted([i for i in os.listdir(beta_path) if i.startswith('sub')])\n",
    "\n",
    "mask_sum = ['EVC', 'DS', 'VTC', 'MT', 'AIP']\n",
    "\n",
    "corr_same_sum = np.zeros((2, len(mask_sum)))\n",
    "corr_diff_sum = np.zeros((2, len(mask_sum)))\n",
    "\n",
    "n_sub = len(sub_names)\n",
    "n_class = 180\n",
    "\n",
    "beta_sum = np.zeros((n_sub, n_class, 59412))\n",
    "for sub_idx, sub_name in enumerate(sub_names):\n",
    "    # define beta path\n",
    "    beta_sub_path = pjoin(beta_path, sub_name, f'{sub_name}_action-beta_clean.npy')\n",
    "    beta_sub = np.load(beta_sub_path)\n",
    "    scaler = StandardScaler()\n",
    "    beta_sum[sub_idx] = scaler.fit_transform(beta_sub)\n",
    "\n",
    "for mask_idx, mask_name in enumerate(mask_sum):\n",
    "    mask = eval(f'{mask_name}_mask')\n",
    "    beta_mask = beta_sum[:, :, mask]\n",
    "    # compute correlation for same image\n",
    "    corr_vector = np.zeros((n_class, int(n_sub*(n_sub-1)/2)))\n",
    "    for image_idx in range(n_class):\n",
    "        image_pattern = beta_mask[:, image_idx, :]\n",
    "        # corr_matrix = np.corrcoef(image_pattern)\n",
    "        # corr_triu = corr_matrix[np.triu(corr_matrix, k=1)!=0]\n",
    "        corr_triu = pdist(image_pattern, 'correlation')\n",
    "        corr_vector[image_idx] = corr_triu\n",
    "    print('%s same image distance: %.3f'%(mask_name, corr_vector.mean()))\n",
    "    corr_same_sum[0, mask_idx] = corr_vector.mean()\n",
    "    corr_same_sum[1, mask_idx] = np.sqrt(corr_vector.std()/(n_class*int(n_sub*(n_sub-1)/2)))\n",
    "\n",
    "    # compute correlation for different image\n",
    "    corr_vector = np.zeros((n_class, n_class-1, int(n_sub*n_sub)))\n",
    "    for image_idx_first in range(n_class):\n",
    "        image_leave = np.delete(np.arange(n_class), image_idx_first)\n",
    "        for idx, image_idx_second in enumerate(image_leave):\n",
    "            # corr_matrix = np.corrcoef(beta_mask[:, image_idx_first, :], beta_mask[:, image_idx_second, :])[:n_sub, n_sub:]\n",
    "            corr_matrix = pairwise_distances(beta_mask[:, image_idx_first, :], beta_mask[:, image_idx_second, :], metric='correlation')\n",
    "            corr_vector[image_idx_first, idx] = corr_matrix.flatten()\n",
    "    print('%s different image distance: %.3f'%(mask_name, corr_vector.mean()))\n",
    "    corr_diff_sum[0, mask_idx] = corr_vector.mean()\n",
    "    corr_diff_sum[1, mask_idx] = np.sqrt(corr_vector.std()/(n_class*(n_class-1)*n_sub*n_sub))\n"
   ]
  },
  {
   "cell_type": "code",
   "execution_count": 6,
   "metadata": {},
   "outputs": [
    {
     "data": {
      "image/png": "[encoded data removed]",
      "text/plain": [
       "<Figure size 864x576 with 1 Axes>"
      ]
     },
     "metadata": {
      "needs_background": "light"
     },
     "output_type": "display_data"
    }
   ],
   "source": [
    "import os \n",
    "import matplotlib.pyplot as plt\n",
    "import numpy as np\n",
    "import pandas as pd\n",
    "from os.path import join as pjoin\n",
    "import matplotlib as mpl\n",
    "mpl.rcParams['axes.linewidth'] = 2\n",
    "mpl.rcParams.update({'font.size': 12, 'font.family': 'STIXGeneral', 'mathtext.fontset': 'stix'})\n",
    "\n",
    "corr_within_mean = corr_same_sum[0, :]\n",
    "corr_within_std = corr_same_sum[1, :]\n",
    "corr_between_mean = corr_diff_sum[0, :]\n",
    "corr_between_std = corr_diff_sum[1, :]\n",
    "\n",
    "width = 0.2\n",
    "labels = mask_sum\n",
    "x_1 = 0.7*np.arange(corr_within_mean.shape[0])\n",
    "x_2 = x_1 + width\n",
    "\n",
    "plt.figure(figsize=(12, 8))\n",
    "plt.bar(x_1, corr_within_mean, yerr=corr_within_std, label='Same category', color='#F54748', \n",
    "        width=width, edgecolor='black', linewidth=3, error_kw=dict(lw=3, capsize=5, capthick=3), ecolor = \"black\")\n",
    "plt.bar(x_2, corr_between_mean, yerr=corr_between_std, label='Diff category', color='#0A81AB', \n",
    "        width=width, edgecolor='black', linewidth=3, error_kw=dict(lw=3, capsize=5, capthick=3), ecolor = \"black\")\n",
    "\n",
    "# Add some text for labels, title and custom x-axis tick labels, etc.\n",
    "ax = plt.gca()\n",
    "# ax.set_ylabel('Pattern Correlation', weight='bold', size=20, label)\n",
    "ax.tick_params(labelsize=18, width=3, length=6, direction=\"in\", pad=10)\n",
    "\n",
    "plt.xticks((x_1 + x_2)/2, labels, weight='bold', fontsize=20)\n",
    "plt.yticks(weight='bold')\n",
    "plt.legend(loc='upper left', prop={'size':16, 'weight':'bold'})\n",
    "\n",
    "ax.set_ylim(0.9, 1.04)\n",
    "ax.set_xlim(-0.5, 3.6)\n",
    "ax.spines['top'].set_visible(False)\n",
    "ax.spines['right'].set_visible(False)\n",
    "ax.spines['bottom'].set_linewidth(3)\n",
    "ax.spines['bottom'].set_position(('data', 0.9))\n",
    "ax.spines['left'].set_linewidth(3)"
   ]
  },
  {
   "cell_type": "markdown",
   "metadata": {},
   "source": [
    "Correlation distance within subjects. In each subjects, each categories are presented 4 times.\n",
    "Here distinguishes same or different categories."
   ]
  },
  {
   "cell_type": "code",
   "execution_count": 3,
   "metadata": {},
   "outputs": [
    {
     "name": "stdout",
     "output_type": "stream",
     "text": [
      "Finish sub-01\n",
      "Finish sub-02\n",
      "Finish sub-03\n",
      "Finish sub-04\n",
      "Finish sub-05\n",
      "Finish sub-06\n",
      "Finish sub-07\n",
      "Finish sub-08\n",
      "Finish sub-09\n",
      "Finish sub-10\n",
      "Finish sub-11\n",
      "Finish sub-12\n",
      "Finish sub-13\n",
      "Finish sub-14\n",
      "Finish sub-15\n",
      "Finish sub-16\n",
      "Finish sub-17\n",
      "Finish sub-18\n",
      "Finish sub-19\n",
      "Finish sub-20\n",
      "Finish sub-21\n",
      "Finish sub-22\n",
      "Finish sub-23\n",
      "Finish sub-24\n",
      "Finish sub-25\n",
      "Finish sub-26\n",
      "Finish sub-27\n",
      "Finish sub-28\n",
      "Finish sub-29\n",
      "Finish sub-30\n"
     ]
    }
   ],
   "source": [
    "from scipy.stats import pearsonr\n",
    "from scipy.spatial.distance import pdist, squareform\n",
    "from sklearn.metrics import pairwise_distances\n",
    "\n",
    "# Load beta for 30 subjects \n",
    "sub_names = sorted([i for i in os.listdir(beta_path) if i.startswith('sub') and int(i.split('-')[-1])<=30])\n",
    "\n",
    "mask_sum = ['EVC', 'DS', 'VTC', 'MT', 'AIP']\n",
    "\n",
    "corr_same_sum = np.zeros((len(sub_names), 2, len(mask_sum)))\n",
    "corr_diff_sum = np.zeros((len(sub_names), 2, len(mask_sum)))\n",
    "\n",
    "n_sub = len(sub_names)\n",
    "n_class = 180\n",
    "n_sess = 4\n",
    "\n",
    "for sub_idx, sub_name in enumerate(sub_names):\n",
    "    # define beta path\n",
    "    beta_sub_path = pjoin(beta_path, sub_name, f'{sub_name}_action-beta_clean_split.npy')\n",
    "    beta_sub = np.load(beta_sub_path)\n",
    "    for sess_idx in range(n_sess):\n",
    "        scaler = StandardScaler()\n",
    "        beta_sub[sess_idx] = scaler.fit_transform(beta_sub[sess_idx])\n",
    "\n",
    "    for mask_idx, mask_name in enumerate(mask_sum):\n",
    "        mask = eval(f'{mask_name}_mask')\n",
    "        beta_mask = beta_sub[:, :, mask]\n",
    "        # compute correlation for same image\n",
    "        corr_vector = np.zeros((n_class, int(n_sess*(n_sess-1)/2)))\n",
    "        for image_idx in range(n_class):\n",
    "            image_pattern = beta_mask[:, image_idx, :]\n",
    "            # corr_matrix = np.corrcoef(image_pattern)\n",
    "            # corr_triu = corr_matrix[np.triu(corr_matrix, k=1)!=0]\n",
    "            corr_triu = pdist(image_pattern, 'correlation')\n",
    "            corr_vector[image_idx] = corr_triu\n",
    "        corr_same_sum[sub_idx, 0, mask_idx] = corr_vector.mean()\n",
    "        corr_same_sum[sub_idx, 1, mask_idx] = np.sqrt(corr_vector.std()/(n_class*int(n_sess*(n_sess-1)/2)))\n",
    "\n",
    "        # compute correlation for different image\n",
    "        corr_vector = np.zeros((n_class, n_class-1, int(n_sess*n_sess)))\n",
    "        for image_idx_first in range(n_class):\n",
    "            image_leave = np.delete(np.arange(n_class), image_idx_first)\n",
    "            for idx, image_idx_second in enumerate(image_leave):\n",
    "                # corr_matrix = np.corrcoef(beta_mask[:, image_idx_first, :], beta_mask[:, image_idx_second, :])[:n_sub, n_sub:]\n",
    "                corr_matrix = pairwise_distances(beta_mask[:, image_idx_first, :], beta_mask[:, image_idx_second, :], metric='correlation')\n",
    "                corr_vector[image_idx_first, idx] = corr_matrix.flatten()\n",
    "        corr_diff_sum[sub_idx, 0, mask_idx] = corr_vector.mean()\n",
    "        corr_diff_sum[sub_idx, 1, mask_idx] = np.sqrt(corr_vector.std()/(n_class*(n_class-1)*n_sess*n_sess))\n",
    "    print(f'Finish {sub_name}')\n",
    "corr_same_sum = corr_same_sum.mean(axis=0)\n",
    "corr_diff_sum = corr_diff_sum.mean(axis=0)\n"
   ]
  },
  {
   "cell_type": "code",
   "execution_count": 4,
   "metadata": {},
   "outputs": [
    {
     "data": {
      "image/png": "[encoded data removed]",
      "text/plain": [
       "<Figure size 864x576 with 1 Axes>"
      ]
     },
     "metadata": {
      "needs_background": "light"
     },
     "output_type": "display_data"
    }
   ],
   "source": [
    "import os \n",
    "import matplotlib.pyplot as plt\n",
    "import numpy as np\n",
    "import pandas as pd\n",
    "from os.path import join as pjoin\n",
    "import matplotlib as mpl\n",
    "mpl.rcParams['axes.linewidth'] = 2\n",
    "mpl.rcParams.update({'font.size': 12, 'font.family': 'STIXGeneral', 'mathtext.fontset': 'stix'})\n",
    "\n",
    "corr_within_mean = corr_same_sum[0, :]\n",
    "corr_within_std = corr_same_sum[1, :]\n",
    "corr_between_mean = corr_diff_sum[0, :]\n",
    "corr_between_std = corr_diff_sum[1, :]\n",
    "\n",
    "width = 0.2\n",
    "labels = mask_sum\n",
    "x_1 = 0.7*np.arange(corr_within_mean.shape[0])\n",
    "x_2 = x_1 + width\n",
    "\n",
    "plt.figure(figsize=(12, 8))\n",
    "plt.bar(x_1, corr_within_mean, yerr=corr_within_std, label='Same category', color='#F54748', \n",
    "        width=width, edgecolor='black', linewidth=3, error_kw=dict(lw=3, capsize=5, capthick=3), ecolor = \"black\")\n",
    "plt.bar(x_2, corr_between_mean, yerr=corr_between_std, label='Diff category', color='#0A81AB', \n",
    "        width=width, edgecolor='black', linewidth=3, error_kw=dict(lw=3, capsize=5, capthick=3), ecolor = \"black\")\n",
    "\n",
    "# Add some text for labels, title and custom x-axis tick labels, etc.\n",
    "ax = plt.gca()\n",
    "# ax.set_ylabel('Pattern Correlation', weight='bold', size=20, label)\n",
    "ax.tick_params(labelsize=18, width=3, length=6, direction=\"in\", pad=10)\n",
    "\n",
    "plt.xticks((x_1 + x_2)/2, labels, weight='bold', fontsize=20)\n",
    "plt.yticks(weight='bold')\n",
    "plt.legend(loc='upper left', prop={'size':16, 'weight':'bold'})\n",
    "\n",
    "ax.set_ylim(0.9, 1.04)\n",
    "ax.set_xlim(-0.5, 3.6)\n",
    "ax.spines['top'].set_visible(False)\n",
    "ax.spines['right'].set_visible(False)\n",
    "ax.spines['bottom'].set_linewidth(3)\n",
    "ax.spines['bottom'].set_position(('data', 0.9))\n",
    "ax.spines['left'].set_linewidth(3)"
   ]
  }
 ],
 "metadata": {
  "interpreter": {
   "hash": "ded51e6ae5fb79fea0b0420ae45d65595baa7e9f6ec8445524f1c7cb23aaaa4c"
  },
  "kernelspec": {
   "display_name": "Python 3.8.5 ('base')",
   "language": "python",
   "name": "python3"
  },
  "language_info": {
   "codemirror_mode": {
    "name": "ipython",
    "version": 3
   },
   "file_extension": ".py",
   "mimetype": "text/x-python",
   "name": "python",
   "nbconvert_exporter": "python",
   "pygments_lexer": "ipython3",
   "version": "3.8.5"
  },
  "orig_nbformat": 4
 },
 "nbformat": 4,
 "nbformat_minor": 2
}
