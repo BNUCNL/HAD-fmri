{
 "cells": [
  {
   "cell_type": "code",
   "execution_count": 18,
   "metadata": {},
   "outputs": [
    {
     "name": "stdout",
     "output_type": "stream",
     "text": [
      "Categories remove: Cumbia\n",
      "Categories remove: Peeling potatoes\n",
      "Categories remove: Installing carpet\n",
      "Categories remove: Drinking beer\n",
      "Categories remove: Layup drill in basketball\n",
      "Categories remove: Tennis serve with ball bouncing\n",
      "Categories remove: Changing car wheel\n",
      "Categories remove: Removing ice from car\n",
      "Categories remove: Washing face\n",
      "Categories remove: Shaving legs\n",
      "Categories remove: Removing curlers\n",
      "Categories remove: Gargling mouthwash\n",
      "Categories remove: Curling\n",
      "Categories remove: Doing a powerbomb\n",
      "Categories remove: Clipping cat claws\n",
      "Categories remove: Blowing leaves\n",
      "Categories remove: Applying sunscreen\n",
      "Categories remove: Playing ten pins\n",
      "Categories remove: River tubing\n",
      "Categories remove: Roof shingle removal\n"
     ]
    }
   ],
   "source": [
    "import os\n",
    "import numpy as np\n",
    "import pandas as pd\n",
    "import plotly.express as px\n",
    "\n",
    "hierarchy_path = '/nfs/z1/userhome/ZhouMing/workingdir/BIN/action/utils/HAD/data/utils/taxonomy_activitynet.csv'\n",
    "hierarchy = pd.read_csv(hierarchy_path)\n",
    "\n",
    "video_path = '/nfs/z1/userhome/ZhouMing/workingdir/BIN/action/exp/video'\n",
    "acton_categories = os.listdir(video_path)\n",
    "parent_categories = hierarchy['parentName'].unique()\n",
    "parent_categories = np.delete(parent_categories, 0)\n",
    "acton_categories.extend(parent_categories)\n",
    "\n",
    "# remove classes that not in the 180 categories\n",
    "for idx in range(hierarchy.shape[0]):\n",
    "    tmp_categories = hierarchy.loc[idx, 'nodeName']\n",
    "    if tmp_categories not in acton_categories:\n",
    "        hierarchy.drop([idx], axis=0, inplace=True)\n",
    "        print(f'Categories remove: {tmp_categories}')"
   ]
  },
  {
   "cell_type": "code",
   "execution_count": null,
   "metadata": {},
   "outputs": [],
   "source": [
    "node_name = hierarchy['nodeName'].to_list()\n",
    "parent_name = hierarchy['parentName'].to_list()\n",
    "node_name[0] = 'HAD 180 categories'\n",
    "node_name[0] = 'HAD 180 categories'\n",
    "\n",
    "fig = px.treemap(\n",
    "    names = node_name,\n",
    "    parents = parent_name\n",
    ")\n",
    "fig.update_traces(root_color=\"lightgrey\")\n",
    "fig.update_layout(margin = dict(t=50, l=25, r=25, b=25), width=1000, height=600,\n",
    "                  font = dict(family='arial', size=16))\n",
    "fig.show()"
   ]
  },
  {
   "cell_type": "markdown",
   "metadata": {},
   "source": [
    "#### Using ete to show hierarchy"
   ]
  },
  {
   "cell_type": "code",
   "execution_count": 51,
   "metadata": {},
   "outputs": [],
   "source": [
    "import os\n",
    "import numpy as np\n",
    "import pandas as pd\n",
    "import plotly.express as px\n",
    "from treemaker import TreeMaker\n",
    "from os.path import join as pjoin\n",
    "\n",
    "hierarchy_path = '/nfs/z1/userhome/ZhouMing/workingdir/BIN/action/utils/HAD/data/utils/taxonomy_activitynet_parentinfo.csv'\n",
    "hierarchy = pd.read_csv(hierarchy_path)\n",
    "\n",
    "video_path = '/nfs/z1/userhome/ZhouMing/workingdir/BIN/action/exp/video'\n",
    "result_path = '/nfs/z1/userhome/ZhouMing/workingdir/BIN/action/utils/HAD/result'\n",
    "acton_categories = os.listdir(video_path)\n",
    "\n",
    "\n",
    "newick_info = '('\n",
    "parent_names = ['Household Activities', 'Personal Care','Eating and drinking Activities', \n",
    "               'Sports, Exercise, and Recreation', 'Socializing, Relaxing, and Leisure']\n",
    "for super_idx, values in enumerate(hierarchy['parent_3rd'].unique()):\n",
    "    t = TreeMaker()\n",
    "    tmp_df = hierarchy[hierarchy.loc[:, 'parent_3rd'] == values]\n",
    "    tmp_df.reset_index(inplace=True)\n",
    "    # remove classes that not in the 180 categories\n",
    "    for idx in range(tmp_df.shape[0]):\n",
    "        tmp_categories = tmp_df.loc[idx, 'nodeName']\n",
    "        parent_1st, parent2nd = tmp_df.iloc[idx, 3:5].values\n",
    "        # if tmp_categories not in acton_categories:\n",
    "        #     hierarchy.drop([idx], axis=0, inplace=True)\n",
    "        # write info into treemaker\n",
    "        t.add(tmp_categories, f'{parent_1st}, {parent2nd}')\n",
    "    newick_info += t.write().rstrip(';')\n",
    "    if super_idx != 4:\n",
    "        newick_info += ','\n",
    "newick_info += ');'\n",
    "with open(pjoin(result_path, 'activitynet_newick.txt'), 'w') as f:\n",
    "    f.write(newick_info)\n"
   ]
  }
 ],
 "metadata": {
  "kernelspec": {
   "display_name": "Python 3.8.5 ('base')",
   "language": "python",
   "name": "python3"
  },
  "language_info": {
   "codemirror_mode": {
    "name": "ipython",
    "version": 3
   },
   "file_extension": ".py",
   "mimetype": "text/x-python",
   "name": "python",
   "nbconvert_exporter": "python",
   "pygments_lexer": "ipython3",
   "version": "3.8.5"
  },
  "orig_nbformat": 4,
  "vscode": {
   "interpreter": {
    "hash": "ded51e6ae5fb79fea0b0420ae45d65595baa7e9f6ec8445524f1c7cb23aaaa4c"
   }
  }
 },
 "nbformat": 4,
 "nbformat_minor": 2
}
