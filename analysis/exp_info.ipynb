{
 "cells": [
  {
   "cell_type": "code",
   "execution_count": 1,
   "metadata": {},
   "outputs": [
    {
     "name": "stdout",
     "output_type": "stream",
     "text": [
      "Categories remove: Cumbia\n",
      "Categories remove: Peeling potatoes\n",
      "Categories remove: Installing carpet\n",
      "Categories remove: Drinking beer\n",
      "Categories remove: Layup drill in basketball\n",
      "Categories remove: Tennis serve with ball bouncing\n",
      "Categories remove: Changing car wheel\n",
      "Categories remove: Removing ice from car\n",
      "Categories remove: Washing face\n",
      "Categories remove: Shaving legs\n",
      "Categories remove: Removing curlers\n",
      "Categories remove: Gargling mouthwash\n",
      "Categories remove: Curling\n",
      "Categories remove: Doing a powerbomb\n",
      "Categories remove: Clipping cat claws\n",
      "Categories remove: Blowing leaves\n",
      "Categories remove: Applying sunscreen\n",
      "Categories remove: Playing ten pins\n",
      "Categories remove: River tubing\n",
      "Categories remove: Roof shingle removal\n"
     ]
    }
   ],
   "source": [
    "import os\n",
    "import numpy as np\n",
    "import pandas as pd\n",
    "import plotly.express as px\n",
    "\n",
    "hierarchy_path = '/nfs/z1/userhome/ZhouMing/workingdir/BIN/action/utils/HAD/data/utils/taxonomy_activitynet.csv'\n",
    "hierarchy = pd.read_csv(hierarchy_path)\n",
    "\n",
    "video_path = '/nfs/z1/userhome/ZhouMing/workingdir/BIN/action/exp/video'\n",
    "acton_categories = os.listdir(video_path)\n",
    "parent_categories = hierarchy['parentName'].unique()\n",
    "parent_categories = np.delete(parent_categories, 0)\n",
    "acton_categories.extend(parent_categories)\n",
    "\n",
    "# remove classes that not in the 180 categories\n",
    "for idx in range(hierarchy.shape[0]):\n",
    "    tmp_categories = hierarchy.loc[idx, 'nodeName']\n",
    "    if tmp_categories not in acton_categories:\n",
    "        hierarchy.drop([idx], axis=0, inplace=True)\n",
    "        print(f'Categories remove: {tmp_categories}')\n",
    "\n"
   ]
  },
  {
   "cell_type": "code",
   "execution_count": 10,
   "metadata": {},
   "outputs": [
    {
     "data": {
      "application/vnd.plotly.v1+json": {
       "config": {
        "plotlyServerURL": "https://plot.ly"
       },
       "data": [
        {
         "domain": {
          "x": [
           0,
           1
          ],
          "y": [
           0,
           1
          ]
         },
         "hovertemplate": "label=%{label}<br>parent=%{parent}<extra></extra>",
         "labels": [
          "Root",
          "Household Activities",
          "Personal Care",
          "Eating and drinking Activities",
          "Sports, Exercise, and Recreation",
          "Socializing, Relaxing, and Leisure",
          "Lawn, Garden, and Houseplants",
          "Exterior Maintenance, Repair, & Decoration",
          "Vehicles",
          "Interior Maintenance, Repair, & Decoration",
          "Housework",
          "Household Management",
          "Animals and Pets",
          "Appliances, Tools, and Toys",
          "Grooming",
          "Health-related Self Care",
          "Food & Drink Prep., Presentation, & Clean-up",
          "Participating in Sports, Exercise, or Recreation",
          "Relaxing and Leisure",
          "Arts and Entertainment",
          "Lawn, garden, and houseplant care",
          "Tobacco and drug use",
          "Playing games",
          "Exterior cleaning",
          "Exterior repair, improvements, & decoration",
          "Painting fence",
          "Vehicle repair and maintenance (by self)",
          "Interior arrangement, decoration, & repairs",
          "Heating and cooling",
          "Building and repairing furniture",
          "Laundry",
          "Interior cleaning",
          "Sewing, repairing, & maintaining textiles",
          "Doing gymnastics",
          "Participating in martial arts",
          "Weightlifting",
          "Participating in water sports",
          "Participating in equestrian sports",
          "Climbing, spelunking, caving",
          "Playing basketball",
          "Playing racquet sports ",
          "Doing aerobics",
          "Using cardiovascular equipment",
          "Playing hockey",
          "Playing sports",
          "Wrestling",
          "Biking",
          "Playing soccer",
          "Bowling",
          "Participating in rodeo competitions",
          "Boating",
          "Working out",
          "Fencing",
          "Fishing",
          "Playing volleyball",
          "Running",
          "Skiing, ice skating, snowboarding",
          "Food and drink preparation ",
          "Kitchen and food clean-up",
          "Eating and Drinking",
          "Household & personal organization and planning",
          "Washing, dressing and grooming",
          "Washing, dressing and grooming oneself",
          "Dancing",
          "Attending arts and entertainment",
          "Playing musical instruments",
          "Beach activities",
          "Park activities",
          "Attending gambling establishments",
          "Walking / exercising / playing with animals",
          "Care for animals and pets (not veterinary care)",
          "Tango",
          "Cheerleading",
          "Breakdancing",
          "Belly dance",
          "Using parallel bars",
          "Using the pommel horse",
          "Using the balance beam",
          "Using uneven bars",
          "Tumbling",
          "Grooming horse",
          "Walking the dog",
          "Disc dog",
          "Doing kickboxing",
          "Doing karate",
          "Tai chi",
          "Capoeira",
          "Smoking hookah",
          "Smoking a cigarette",
          "Ironing clothes",
          "Hand washing clothes",
          "Preparing salad",
          "Making a sandwich",
          "Preparing pasta",
          "Mixing drinks",
          "Baking cookies",
          "Making a cake",
          "Making a lemonade",
          "Making an omelette",
          "Painting",
          "Carving jack-o-lanterns",
          "Cleaning sink",
          "Decorating the Christmas tree",
          "Hanging wallpaper",
          "Laying tile",
          "Plastering",
          "Chopping wood",
          "Snatch",
          "Clean and jerk",
          "Cleaning windows",
          "Polishing forniture",
          "Vacuuming floor",
          "Mooping floor",
          "Getting a tattoo",
          "Getting a haircut",
          "Getting a piercing",
          "Ballet",
          "Wrapping presents",
          "Playing water polo",
          "Springboard diving",
          "Plataform diving",
          "Windsurfing",
          "Sailing",
          "Kayaking",
          "Scuba diving",
          "Surfing",
          "Swimming",
          "Wakeboarding",
          "Waterskiing",
          "Washing dishes",
          "Cleaning shoes",
          "Polishing shoes",
          "Knitting",
          "Drinking coffee",
          "Having an ice cream",
          "Hopscotch",
          "Beer pong",
          "Hitting a pinata",
          "Hula hoop",
          "Kite flying",
          "Playing pool",
          "Playing rubik cube",
          "Riding bumper cars",
          "Rock-paper-scissors",
          "Shuffleboard",
          "Slacklining",
          "Table soccer",
          "Throwing darts",
          "Tug of war",
          "Playing polo",
          "Horseback riding",
          "Rock climbing",
          "Shoveling snow",
          "Ping-pong",
          "Playing squash",
          "Playing lacrosse",
          "Playing racquetball",
          "Playing badminton",
          "Zumba",
          "Doing step aerobics",
          "Fixing bicycle",
          "Assembling bicycle",
          "Hand car wash",
          "Spinning",
          "Elliptical trainer",
          "Using the rowing machine",
          "Playing field hockey",
          "Playing ice hockey",
          "Playing harmonica",
          "Playing saxophone",
          "Playing bagpipes",
          "Playing flauta",
          "Playing piano",
          "Playing violin",
          "Playing guitarra",
          "Playing accordion",
          "Drum corps",
          "Playing congas",
          "Playing drums",
          "Putting on makeup",
          "Brushing hair",
          "Brushing teeth",
          "Doing nails",
          "Washing hands",
          "Shaving",
          "Blow-drying hair",
          "Braiding hair",
          "Putting in contact lenses",
          "Putting on shoes",
          "Long jump",
          "Cricket",
          "Discus throw",
          "Pole vault",
          "Javelin throw",
          "Paintball",
          "Starting a campfire",
          "Bungee jumping",
          "Triple jump",
          "Dodgeball",
          "Shot put",
          "Skateboarding",
          "High jump",
          "Hammer throw",
          "Doing motocross",
          "Archery",
          "Playing kickball",
          "Baton twirling",
          "Camel ride",
          "Croquet",
          "Hurling",
          "Longboarding",
          "Powerbocking",
          "Rollerblading",
          "Bathing dog",
          "Grooming dog",
          "Mowing the lawn",
          "Cutting the grass",
          "Raking leaves",
          "Spread mulch",
          "Trimming branches or hedges",
          "Health-related self care",
          "Arm wrestling",
          "Sumo",
          "BMX",
          "Beach soccer",
          "Futsal",
          "Building sandcastles",
          "Bullfighting",
          "Calf roping",
          "Canoeing",
          "Rafting",
          "Doing crunches",
          "Kneeling",
          "Rope skipping",
          "Doing fencing",
          "Fixing the roof",
          "Fun sliding down",
          "Swinging at the playground",
          "Using the monkey bar",
          "Ice fishing",
          "Painting furniture",
          "Volleyball",
          "Playing beach volleyball",
          "Playing blackjack",
          "Running a marathon",
          "Sharpening knives",
          "Waxing skis",
          "Welding",
          "Appliance, tool, and toy set-up, repair, & maintenance (by self)",
          "Skiing",
          "Snow tubing",
          "Snowboarding"
         ],
         "name": "",
         "parents": [
          null,
          "Root",
          "Root",
          "Root",
          "Root",
          "Root",
          "Household Activities",
          "Household Activities",
          "Household Activities",
          "Household Activities",
          "Household Activities",
          "Household Activities",
          "Household Activities",
          "Household Activities",
          "Personal Care",
          "Personal Care",
          "Eating and drinking Activities",
          "Sports, Exercise, and Recreation",
          "Socializing, Relaxing, and Leisure",
          "Socializing, Relaxing, and Leisure",
          "Lawn, Garden, and Houseplants",
          "Relaxing and Leisure",
          "Relaxing and Leisure",
          "Exterior Maintenance, Repair, & Decoration",
          "Exterior Maintenance, Repair, & Decoration",
          "Exterior Maintenance, Repair, & Decoration",
          "Vehicles",
          "Interior Maintenance, Repair, & Decoration",
          "Interior Maintenance, Repair, & Decoration",
          "Interior Maintenance, Repair, & Decoration",
          "Housework",
          "Housework",
          "Housework",
          "Participating in Sports, Exercise, or Recreation",
          "Participating in Sports, Exercise, or Recreation",
          "Participating in Sports, Exercise, or Recreation",
          "Participating in Sports, Exercise, or Recreation",
          "Participating in Sports, Exercise, or Recreation",
          "Participating in Sports, Exercise, or Recreation",
          "Participating in Sports, Exercise, or Recreation",
          "Participating in Sports, Exercise, or Recreation",
          "Participating in Sports, Exercise, or Recreation",
          "Participating in Sports, Exercise, or Recreation",
          "Participating in Sports, Exercise, or Recreation",
          "Participating in Sports, Exercise, or Recreation",
          "Participating in Sports, Exercise, or Recreation",
          "Participating in Sports, Exercise, or Recreation",
          "Participating in Sports, Exercise, or Recreation",
          "Participating in Sports, Exercise, or Recreation",
          "Participating in Sports, Exercise, or Recreation",
          "Participating in Sports, Exercise, or Recreation",
          "Participating in Sports, Exercise, or Recreation",
          "Participating in Sports, Exercise, or Recreation",
          "Participating in Sports, Exercise, or Recreation",
          "Participating in Sports, Exercise, or Recreation",
          "Participating in Sports, Exercise, or Recreation",
          "Participating in Sports, Exercise, or Recreation",
          "Food & Drink Prep., Presentation, & Clean-up",
          "Food & Drink Prep., Presentation, & Clean-up",
          "Food & Drink Prep., Presentation, & Clean-up",
          "Household Management",
          "Grooming",
          "Grooming",
          "Arts and Entertainment",
          "Arts and Entertainment",
          "Arts and Entertainment",
          "Arts and Entertainment",
          "Arts and Entertainment",
          "Arts and Entertainment",
          "Animals and Pets",
          "Animals and Pets",
          "Dancing",
          "Dancing",
          "Dancing",
          "Dancing",
          "Doing gymnastics",
          "Doing gymnastics",
          "Doing gymnastics",
          "Doing gymnastics",
          "Doing gymnastics",
          "Walking / exercising / playing with animals",
          "Walking / exercising / playing with animals",
          "Walking / exercising / playing with animals",
          "Participating in martial arts",
          "Participating in martial arts",
          "Participating in martial arts",
          "Participating in martial arts",
          "Tobacco and drug use",
          "Tobacco and drug use",
          "Laundry",
          "Laundry",
          "Food and drink preparation ",
          "Food and drink preparation ",
          "Food and drink preparation ",
          "Food and drink preparation ",
          "Food and drink preparation ",
          "Food and drink preparation ",
          "Food and drink preparation ",
          "Food and drink preparation ",
          "Interior arrangement, decoration, & repairs",
          "Interior arrangement, decoration, & repairs",
          "Interior arrangement, decoration, & repairs",
          "Interior arrangement, decoration, & repairs",
          "Interior arrangement, decoration, & repairs",
          "Interior arrangement, decoration, & repairs",
          "Interior arrangement, decoration, & repairs",
          "Heating and cooling",
          "Weightlifting",
          "Weightlifting",
          "Interior cleaning",
          "Interior cleaning",
          "Interior cleaning",
          "Interior cleaning",
          "Washing, dressing and grooming",
          "Washing, dressing and grooming",
          "Washing, dressing and grooming",
          "Attending arts and entertainment",
          "Household & personal organization and planning",
          "Participating in water sports",
          "Participating in water sports",
          "Participating in water sports",
          "Participating in water sports",
          "Participating in water sports",
          "Participating in water sports",
          "Participating in water sports",
          "Participating in water sports",
          "Participating in water sports",
          "Participating in water sports",
          "Participating in water sports",
          "Kitchen and food clean-up",
          "Sewing, repairing, & maintaining textiles",
          "Sewing, repairing, & maintaining textiles",
          "Sewing, repairing, & maintaining textiles",
          "Eating and Drinking",
          "Eating and Drinking",
          "Playing games",
          "Playing games",
          "Playing games",
          "Playing games",
          "Playing games",
          "Playing games",
          "Playing games",
          "Playing games",
          "Playing games",
          "Playing games",
          "Playing games",
          "Playing games",
          "Playing games",
          "Playing games",
          "Participating in equestrian sports",
          "Participating in equestrian sports",
          "Climbing, spelunking, caving",
          "Exterior cleaning",
          "Playing racquet sports ",
          "Playing racquet sports ",
          "Playing racquet sports ",
          "Playing racquet sports ",
          "Playing racquet sports ",
          "Doing aerobics",
          "Doing aerobics",
          "Vehicle repair and maintenance (by self)",
          "Vehicle repair and maintenance (by self)",
          "Vehicle repair and maintenance (by self)",
          "Using cardiovascular equipment",
          "Using cardiovascular equipment",
          "Using cardiovascular equipment",
          "Playing hockey",
          "Playing hockey",
          "Playing musical instruments",
          "Playing musical instruments",
          "Playing musical instruments",
          "Playing musical instruments",
          "Playing musical instruments",
          "Playing musical instruments",
          "Playing musical instruments",
          "Playing musical instruments",
          "Playing musical instruments",
          "Playing musical instruments",
          "Playing musical instruments",
          "Washing, dressing and grooming oneself",
          "Washing, dressing and grooming oneself",
          "Washing, dressing and grooming oneself",
          "Washing, dressing and grooming oneself",
          "Washing, dressing and grooming oneself",
          "Washing, dressing and grooming oneself",
          "Washing, dressing and grooming oneself",
          "Washing, dressing and grooming oneself",
          "Washing, dressing and grooming oneself",
          "Washing, dressing and grooming oneself",
          "Playing sports",
          "Playing sports",
          "Playing sports",
          "Playing sports",
          "Playing sports",
          "Playing sports",
          "Playing sports",
          "Playing sports",
          "Playing sports",
          "Playing sports",
          "Playing sports",
          "Playing sports",
          "Playing sports",
          "Playing sports",
          "Playing sports",
          "Playing sports",
          "Playing sports",
          "Playing sports",
          "Playing sports",
          "Playing sports",
          "Playing sports",
          "Playing sports",
          "Playing sports",
          "Playing sports",
          "Care for animals and pets (not veterinary care)",
          "Care for animals and pets (not veterinary care)",
          "Lawn, garden, and houseplant care",
          "Lawn, garden, and houseplant care",
          "Lawn, garden, and houseplant care",
          "Lawn, garden, and houseplant care",
          "Lawn, garden, and houseplant care",
          "Health-related Self Care",
          "Wrestling",
          "Wrestling",
          "Biking",
          "Playing soccer",
          "Playing soccer",
          "Beach activities",
          "Participating in rodeo competitions",
          "Participating in rodeo competitions",
          "Boating",
          "Boating",
          "Working out",
          "Working out",
          "Working out",
          "Fencing",
          "Exterior repair, improvements, & decoration",
          "Park activities",
          "Park activities",
          "Park activities",
          "Fishing",
          "Building and repairing furniture",
          "Playing volleyball",
          "Playing volleyball",
          "Attending gambling establishments",
          "Running",
          "Appliance, tool, and toy set-up, repair, & maintenance (by self)",
          "Appliance, tool, and toy set-up, repair, & maintenance (by self)",
          "Appliance, tool, and toy set-up, repair, & maintenance (by self)",
          "Appliances, Tools, and Toys",
          "Skiing, ice skating, snowboarding",
          "Skiing, ice skating, snowboarding",
          "Skiing, ice skating, snowboarding"
         ],
         "root": {
          "color": "lightgrey"
         },
         "type": "treemap"
        }
       ],
       "layout": {
        "font": {
         "family": "arial",
         "size": 16
        },
        "height": 600,
        "legend": {
         "tracegroupgap": 0
        },
        "margin": {
         "b": 25,
         "l": 25,
         "r": 25,
         "t": 50
        },
        "template": {
         "data": {
          "bar": [
           {
            "error_x": {
             "color": "#2a3f5f"
            },
            "error_y": {
             "color": "#2a3f5f"
            },
            "marker": {
             "line": {
              "color": "#E5ECF6",
              "width": 0.5
             },
             "pattern": {
              "fillmode": "overlay",
              "size": 10,
              "solidity": 0.2
             }
            },
            "type": "bar"
           }
          ],
          "barpolar": [
           {
            "marker": {
             "line": {
              "color": "#E5ECF6",
              "width": 0.5
             },
             "pattern": {
              "fillmode": "overlay",
              "size": 10,
              "solidity": 0.2
             }
            },
            "type": "barpolar"
           }
          ],
          "carpet": [
           {
            "aaxis": {
             "endlinecolor": "#2a3f5f",
             "gridcolor": "white",
             "linecolor": "white",
             "minorgridcolor": "white",
             "startlinecolor": "#2a3f5f"
            },
            "baxis": {
             "endlinecolor": "#2a3f5f",
             "gridcolor": "white",
             "linecolor": "white",
             "minorgridcolor": "white",
             "startlinecolor": "#2a3f5f"
            },
            "type": "carpet"
           }
          ],
          "choropleth": [
           {
            "colorbar": {
             "outlinewidth": 0,
             "ticks": ""
            },
            "type": "choropleth"
           }
          ],
          "contour": [
           {
            "colorbar": {
             "outlinewidth": 0,
             "ticks": ""
            },
            "colorscale": [
             [
              0,
              "#0d0887"
             ],
             [
              0.1111111111111111,
              "#46039f"
             ],
             [
              0.2222222222222222,
              "#7201a8"
             ],
             [
              0.3333333333333333,
              "#9c179e"
             ],
             [
              0.4444444444444444,
              "#bd3786"
             ],
             [
              0.5555555555555556,
              "#d8576b"
             ],
             [
              0.6666666666666666,
              "#ed7953"
             ],
             [
              0.7777777777777778,
              "#fb9f3a"
             ],
             [
              0.8888888888888888,
              "#fdca26"
             ],
             [
              1,
              "#f0f921"
             ]
            ],
            "type": "contour"
           }
          ],
          "contourcarpet": [
           {
            "colorbar": {
             "outlinewidth": 0,
             "ticks": ""
            },
            "type": "contourcarpet"
           }
          ],
          "heatmap": [
           {
            "colorbar": {
             "outlinewidth": 0,
             "ticks": ""
            },
            "colorscale": [
             [
              0,
              "#0d0887"
             ],
             [
              0.1111111111111111,
              "#46039f"
             ],
             [
              0.2222222222222222,
              "#7201a8"
             ],
             [
              0.3333333333333333,
              "#9c179e"
             ],
             [
              0.4444444444444444,
              "#bd3786"
             ],
             [
              0.5555555555555556,
              "#d8576b"
             ],
             [
              0.6666666666666666,
              "#ed7953"
             ],
             [
              0.7777777777777778,
              "#fb9f3a"
             ],
             [
              0.8888888888888888,
              "#fdca26"
             ],
             [
              1,
              "#f0f921"
             ]
            ],
            "type": "heatmap"
           }
          ],
          "heatmapgl": [
           {
            "colorbar": {
             "outlinewidth": 0,
             "ticks": ""
            },
            "colorscale": [
             [
              0,
              "#0d0887"
             ],
             [
              0.1111111111111111,
              "#46039f"
             ],
             [
              0.2222222222222222,
              "#7201a8"
             ],
             [
              0.3333333333333333,
              "#9c179e"
             ],
             [
              0.4444444444444444,
              "#bd3786"
             ],
             [
              0.5555555555555556,
              "#d8576b"
             ],
             [
              0.6666666666666666,
              "#ed7953"
             ],
             [
              0.7777777777777778,
              "#fb9f3a"
             ],
             [
              0.8888888888888888,
              "#fdca26"
             ],
             [
              1,
              "#f0f921"
             ]
            ],
            "type": "heatmapgl"
           }
          ],
          "histogram": [
           {
            "marker": {
             "pattern": {
              "fillmode": "overlay",
              "size": 10,
              "solidity": 0.2
             }
            },
            "type": "histogram"
           }
          ],
          "histogram2d": [
           {
            "colorbar": {
             "outlinewidth": 0,
             "ticks": ""
            },
            "colorscale": [
             [
              0,
              "#0d0887"
             ],
             [
              0.1111111111111111,
              "#46039f"
             ],
             [
              0.2222222222222222,
              "#7201a8"
             ],
             [
              0.3333333333333333,
              "#9c179e"
             ],
             [
              0.4444444444444444,
              "#bd3786"
             ],
             [
              0.5555555555555556,
              "#d8576b"
             ],
             [
              0.6666666666666666,
              "#ed7953"
             ],
             [
              0.7777777777777778,
              "#fb9f3a"
             ],
             [
              0.8888888888888888,
              "#fdca26"
             ],
             [
              1,
              "#f0f921"
             ]
            ],
            "type": "histogram2d"
           }
          ],
          "histogram2dcontour": [
           {
            "colorbar": {
             "outlinewidth": 0,
             "ticks": ""
            },
            "colorscale": [
             [
              0,
              "#0d0887"
             ],
             [
              0.1111111111111111,
              "#46039f"
             ],
             [
              0.2222222222222222,
              "#7201a8"
             ],
             [
              0.3333333333333333,
              "#9c179e"
             ],
             [
              0.4444444444444444,
              "#bd3786"
             ],
             [
              0.5555555555555556,
              "#d8576b"
             ],
             [
              0.6666666666666666,
              "#ed7953"
             ],
             [
              0.7777777777777778,
              "#fb9f3a"
             ],
             [
              0.8888888888888888,
              "#fdca26"
             ],
             [
              1,
              "#f0f921"
             ]
            ],
            "type": "histogram2dcontour"
           }
          ],
          "mesh3d": [
           {
            "colorbar": {
             "outlinewidth": 0,
             "ticks": ""
            },
            "type": "mesh3d"
           }
          ],
          "parcoords": [
           {
            "line": {
             "colorbar": {
              "outlinewidth": 0,
              "ticks": ""
             }
            },
            "type": "parcoords"
           }
          ],
          "pie": [
           {
            "automargin": true,
            "type": "pie"
           }
          ],
          "scatter": [
           {
            "fillpattern": {
             "fillmode": "overlay",
             "size": 10,
             "solidity": 0.2
            },
            "type": "scatter"
           }
          ],
          "scatter3d": [
           {
            "line": {
             "colorbar": {
              "outlinewidth": 0,
              "ticks": ""
             }
            },
            "marker": {
             "colorbar": {
              "outlinewidth": 0,
              "ticks": ""
             }
            },
            "type": "scatter3d"
           }
          ],
          "scattercarpet": [
           {
            "marker": {
             "colorbar": {
              "outlinewidth": 0,
              "ticks": ""
             }
            },
            "type": "scattercarpet"
           }
          ],
          "scattergeo": [
           {
            "marker": {
             "colorbar": {
              "outlinewidth": 0,
              "ticks": ""
             }
            },
            "type": "scattergeo"
           }
          ],
          "scattergl": [
           {
            "marker": {
             "colorbar": {
              "outlinewidth": 0,
              "ticks": ""
             }
            },
            "type": "scattergl"
           }
          ],
          "scattermapbox": [
           {
            "marker": {
             "colorbar": {
              "outlinewidth": 0,
              "ticks": ""
             }
            },
            "type": "scattermapbox"
           }
          ],
          "scatterpolar": [
           {
            "marker": {
             "colorbar": {
              "outlinewidth": 0,
              "ticks": ""
             }
            },
            "type": "scatterpolar"
           }
          ],
          "scatterpolargl": [
           {
            "marker": {
             "colorbar": {
              "outlinewidth": 0,
              "ticks": ""
             }
            },
            "type": "scatterpolargl"
           }
          ],
          "scatterternary": [
           {
            "marker": {
             "colorbar": {
              "outlinewidth": 0,
              "ticks": ""
             }
            },
            "type": "scatterternary"
           }
          ],
          "surface": [
           {
            "colorbar": {
             "outlinewidth": 0,
             "ticks": ""
            },
            "colorscale": [
             [
              0,
              "#0d0887"
             ],
             [
              0.1111111111111111,
              "#46039f"
             ],
             [
              0.2222222222222222,
              "#7201a8"
             ],
             [
              0.3333333333333333,
              "#9c179e"
             ],
             [
              0.4444444444444444,
              "#bd3786"
             ],
             [
              0.5555555555555556,
              "#d8576b"
             ],
             [
              0.6666666666666666,
              "#ed7953"
             ],
             [
              0.7777777777777778,
              "#fb9f3a"
             ],
             [
              0.8888888888888888,
              "#fdca26"
             ],
             [
              1,
              "#f0f921"
             ]
            ],
            "type": "surface"
           }
          ],
          "table": [
           {
            "cells": {
             "fill": {
              "color": "#EBF0F8"
             },
             "line": {
              "color": "white"
             }
            },
            "header": {
             "fill": {
              "color": "#C8D4E3"
             },
             "line": {
              "color": "white"
             }
            },
            "type": "table"
           }
          ]
         },
         "layout": {
          "annotationdefaults": {
           "arrowcolor": "#2a3f5f",
           "arrowhead": 0,
           "arrowwidth": 1
          },
          "autotypenumbers": "strict",
          "coloraxis": {
           "colorbar": {
            "outlinewidth": 0,
            "ticks": ""
           }
          },
          "colorscale": {
           "diverging": [
            [
             0,
             "#8e0152"
            ],
            [
             0.1,
             "#c51b7d"
            ],
            [
             0.2,
             "#de77ae"
            ],
            [
             0.3,
             "#f1b6da"
            ],
            [
             0.4,
             "#fde0ef"
            ],
            [
             0.5,
             "#f7f7f7"
            ],
            [
             0.6,
             "#e6f5d0"
            ],
            [
             0.7,
             "#b8e186"
            ],
            [
             0.8,
             "#7fbc41"
            ],
            [
             0.9,
             "#4d9221"
            ],
            [
             1,
             "#276419"
            ]
           ],
           "sequential": [
            [
             0,
             "#0d0887"
            ],
            [
             0.1111111111111111,
             "#46039f"
            ],
            [
             0.2222222222222222,
             "#7201a8"
            ],
            [
             0.3333333333333333,
             "#9c179e"
            ],
            [
             0.4444444444444444,
             "#bd3786"
            ],
            [
             0.5555555555555556,
             "#d8576b"
            ],
            [
             0.6666666666666666,
             "#ed7953"
            ],
            [
             0.7777777777777778,
             "#fb9f3a"
            ],
            [
             0.8888888888888888,
             "#fdca26"
            ],
            [
             1,
             "#f0f921"
            ]
           ],
           "sequentialminus": [
            [
             0,
             "#0d0887"
            ],
            [
             0.1111111111111111,
             "#46039f"
            ],
            [
             0.2222222222222222,
             "#7201a8"
            ],
            [
             0.3333333333333333,
             "#9c179e"
            ],
            [
             0.4444444444444444,
             "#bd3786"
            ],
            [
             0.5555555555555556,
             "#d8576b"
            ],
            [
             0.6666666666666666,
             "#ed7953"
            ],
            [
             0.7777777777777778,
             "#fb9f3a"
            ],
            [
             0.8888888888888888,
             "#fdca26"
            ],
            [
             1,
             "#f0f921"
            ]
           ]
          },
          "colorway": [
           "#636efa",
           "#EF553B",
           "#00cc96",
           "#ab63fa",
           "#FFA15A",
           "#19d3f3",
           "#FF6692",
           "#B6E880",
           "#FF97FF",
           "#FECB52"
          ],
          "font": {
           "color": "#2a3f5f"
          },
          "geo": {
           "bgcolor": "white",
           "lakecolor": "white",
           "landcolor": "#E5ECF6",
           "showlakes": true,
           "showland": true,
           "subunitcolor": "white"
          },
          "hoverlabel": {
           "align": "left"
          },
          "hovermode": "closest",
          "mapbox": {
           "style": "light"
          },
          "paper_bgcolor": "white",
          "plot_bgcolor": "#E5ECF6",
          "polar": {
           "angularaxis": {
            "gridcolor": "white",
            "linecolor": "white",
            "ticks": ""
           },
           "bgcolor": "#E5ECF6",
           "radialaxis": {
            "gridcolor": "white",
            "linecolor": "white",
            "ticks": ""
           }
          },
          "scene": {
           "xaxis": {
            "backgroundcolor": "#E5ECF6",
            "gridcolor": "white",
            "gridwidth": 2,
            "linecolor": "white",
            "showbackground": true,
            "ticks": "",
            "zerolinecolor": "white"
           },
           "yaxis": {
            "backgroundcolor": "#E5ECF6",
            "gridcolor": "white",
            "gridwidth": 2,
            "linecolor": "white",
            "showbackground": true,
            "ticks": "",
            "zerolinecolor": "white"
           },
           "zaxis": {
            "backgroundcolor": "#E5ECF6",
            "gridcolor": "white",
            "gridwidth": 2,
            "linecolor": "white",
            "showbackground": true,
            "ticks": "",
            "zerolinecolor": "white"
           }
          },
          "shapedefaults": {
           "line": {
            "color": "#2a3f5f"
           }
          },
          "ternary": {
           "aaxis": {
            "gridcolor": "white",
            "linecolor": "white",
            "ticks": ""
           },
           "baxis": {
            "gridcolor": "white",
            "linecolor": "white",
            "ticks": ""
           },
           "bgcolor": "#E5ECF6",
           "caxis": {
            "gridcolor": "white",
            "linecolor": "white",
            "ticks": ""
           }
          },
          "title": {
           "x": 0.05
          },
          "xaxis": {
           "automargin": true,
           "gridcolor": "white",
           "linecolor": "white",
           "ticks": "",
           "title": {
            "standoff": 15
           },
           "zerolinecolor": "white",
           "zerolinewidth": 2
          },
          "yaxis": {
           "automargin": true,
           "gridcolor": "white",
           "linecolor": "white",
           "ticks": "",
           "title": {
            "standoff": 15
           },
           "zerolinecolor": "white",
           "zerolinewidth": 2
          }
         }
        },
        "width": 1000
       }
      },
      "text/html": [
       "<div>                            <div id=\"0ad094c3-3c1e-4a0a-9b24-5e2d44634a4a\" class=\"plotly-graph-div\" style=\"height:600px; width:1000px;\"></div>            <script type=\"text/javascript\">                require([\"plotly\"], function(Plotly) {                    window.PLOTLYENV=window.PLOTLYENV || {};                                    if (document.getElementById(\"0ad094c3-3c1e-4a0a-9b24-5e2d44634a4a\")) {                    Plotly.newPlot(                        \"0ad094c3-3c1e-4a0a-9b24-5e2d44634a4a\",                        [{\"domain\":{\"x\":[0.0,1.0],\"y\":[0.0,1.0]},\"hovertemplate\":\"label=%{label}<br>parent=%{parent}<extra></extra>\",\"labels\":[\"Root\",\"Household Activities\",\"Personal Care\",\"Eating and drinking Activities\",\"Sports, Exercise, and Recreation\",\"Socializing, Relaxing, and Leisure\",\"Lawn, Garden, and Houseplants\",\"Exterior Maintenance, Repair, & Decoration\",\"Vehicles\",\"Interior Maintenance, Repair, & Decoration\",\"Housework\",\"Household Management\",\"Animals and Pets\",\"Appliances, Tools, and Toys\",\"Grooming\",\"Health-related Self Care\",\"Food & Drink Prep., Presentation, & Clean-up\",\"Participating in Sports, Exercise, or Recreation\",\"Relaxing and Leisure\",\"Arts and Entertainment\",\"Lawn, garden, and houseplant care\",\"Tobacco and drug use\",\"Playing games\",\"Exterior cleaning\",\"Exterior repair, improvements, & decoration\",\"Painting fence\",\"Vehicle repair and maintenance (by self)\",\"Interior arrangement, decoration, & repairs\",\"Heating and cooling\",\"Building and repairing furniture\",\"Laundry\",\"Interior cleaning\",\"Sewing, repairing, & maintaining textiles\",\"Doing gymnastics\",\"Participating in martial arts\",\"Weightlifting\",\"Participating in water sports\",\"Participating in equestrian sports\",\"Climbing, spelunking, caving\",\"Playing basketball\",\"Playing racquet sports \",\"Doing aerobics\",\"Using cardiovascular equipment\",\"Playing hockey\",\"Playing sports\",\"Wrestling\",\"Biking\",\"Playing soccer\",\"Bowling\",\"Participating in rodeo competitions\",\"Boating\",\"Working out\",\"Fencing\",\"Fishing\",\"Playing volleyball\",\"Running\",\"Skiing, ice skating, snowboarding\",\"Food and drink preparation \",\"Kitchen and food clean-up\",\"Eating and Drinking\",\"Household & personal organization and planning\",\"Washing, dressing and grooming\",\"Washing, dressing and grooming oneself\",\"Dancing\",\"Attending arts and entertainment\",\"Playing musical instruments\",\"Beach activities\",\"Park activities\",\"Attending gambling establishments\",\"Walking / exercising / playing with animals\",\"Care for animals and pets (not veterinary care)\",\"Tango\",\"Cheerleading\",\"Breakdancing\",\"Belly dance\",\"Using parallel bars\",\"Using the pommel horse\",\"Using the balance beam\",\"Using uneven bars\",\"Tumbling\",\"Grooming horse\",\"Walking the dog\",\"Disc dog\",\"Doing kickboxing\",\"Doing karate\",\"Tai chi\",\"Capoeira\",\"Smoking hookah\",\"Smoking a cigarette\",\"Ironing clothes\",\"Hand washing clothes\",\"Preparing salad\",\"Making a sandwich\",\"Preparing pasta\",\"Mixing drinks\",\"Baking cookies\",\"Making a cake\",\"Making a lemonade\",\"Making an omelette\",\"Painting\",\"Carving jack-o-lanterns\",\"Cleaning sink\",\"Decorating the Christmas tree\",\"Hanging wallpaper\",\"Laying tile\",\"Plastering\",\"Chopping wood\",\"Snatch\",\"Clean and jerk\",\"Cleaning windows\",\"Polishing forniture\",\"Vacuuming floor\",\"Mooping floor\",\"Getting a tattoo\",\"Getting a haircut\",\"Getting a piercing\",\"Ballet\",\"Wrapping presents\",\"Playing water polo\",\"Springboard diving\",\"Plataform diving\",\"Windsurfing\",\"Sailing\",\"Kayaking\",\"Scuba diving\",\"Surfing\",\"Swimming\",\"Wakeboarding\",\"Waterskiing\",\"Washing dishes\",\"Cleaning shoes\",\"Polishing shoes\",\"Knitting\",\"Drinking coffee\",\"Having an ice cream\",\"Hopscotch\",\"Beer pong\",\"Hitting a pinata\",\"Hula hoop\",\"Kite flying\",\"Playing pool\",\"Playing rubik cube\",\"Riding bumper cars\",\"Rock-paper-scissors\",\"Shuffleboard\",\"Slacklining\",\"Table soccer\",\"Throwing darts\",\"Tug of war\",\"Playing polo\",\"Horseback riding\",\"Rock climbing\",\"Shoveling snow\",\"Ping-pong\",\"Playing squash\",\"Playing lacrosse\",\"Playing racquetball\",\"Playing badminton\",\"Zumba\",\"Doing step aerobics\",\"Fixing bicycle\",\"Assembling bicycle\",\"Hand car wash\",\"Spinning\",\"Elliptical trainer\",\"Using the rowing machine\",\"Playing field hockey\",\"Playing ice hockey\",\"Playing harmonica\",\"Playing saxophone\",\"Playing bagpipes\",\"Playing flauta\",\"Playing piano\",\"Playing violin\",\"Playing guitarra\",\"Playing accordion\",\"Drum corps\",\"Playing congas\",\"Playing drums\",\"Putting on makeup\",\"Brushing hair\",\"Brushing teeth\",\"Doing nails\",\"Washing hands\",\"Shaving\",\"Blow-drying hair\",\"Braiding hair\",\"Putting in contact lenses\",\"Putting on shoes\",\"Long jump\",\"Cricket\",\"Discus throw\",\"Pole vault\",\"Javelin throw\",\"Paintball\",\"Starting a campfire\",\"Bungee jumping\",\"Triple jump\",\"Dodgeball\",\"Shot put\",\"Skateboarding\",\"High jump\",\"Hammer throw\",\"Doing motocross\",\"Archery\",\"Playing kickball\",\"Baton twirling\",\"Camel ride\",\"Croquet\",\"Hurling\",\"Longboarding\",\"Powerbocking\",\"Rollerblading\",\"Bathing dog\",\"Grooming dog\",\"Mowing the lawn\",\"Cutting the grass\",\"Raking leaves\",\"Spread mulch\",\"Trimming branches or hedges\",\"Health-related self care\",\"Arm wrestling\",\"Sumo\",\"BMX\",\"Beach soccer\",\"Futsal\",\"Building sandcastles\",\"Bullfighting\",\"Calf roping\",\"Canoeing\",\"Rafting\",\"Doing crunches\",\"Kneeling\",\"Rope skipping\",\"Doing fencing\",\"Fixing the roof\",\"Fun sliding down\",\"Swinging at the playground\",\"Using the monkey bar\",\"Ice fishing\",\"Painting furniture\",\"Volleyball\",\"Playing beach volleyball\",\"Playing blackjack\",\"Running a marathon\",\"Sharpening knives\",\"Waxing skis\",\"Welding\",\"Appliance, tool, and toy set-up, repair, & maintenance (by self)\",\"Skiing\",\"Snow tubing\",\"Snowboarding\"],\"name\":\"\",\"parents\":[null,\"Root\",\"Root\",\"Root\",\"Root\",\"Root\",\"Household Activities\",\"Household Activities\",\"Household Activities\",\"Household Activities\",\"Household Activities\",\"Household Activities\",\"Household Activities\",\"Household Activities\",\"Personal Care\",\"Personal Care\",\"Eating and drinking Activities\",\"Sports, Exercise, and Recreation\",\"Socializing, Relaxing, and Leisure\",\"Socializing, Relaxing, and Leisure\",\"Lawn, Garden, and Houseplants\",\"Relaxing and Leisure\",\"Relaxing and Leisure\",\"Exterior Maintenance, Repair, & Decoration\",\"Exterior Maintenance, Repair, & Decoration\",\"Exterior Maintenance, Repair, & Decoration\",\"Vehicles\",\"Interior Maintenance, Repair, & Decoration\",\"Interior Maintenance, Repair, & Decoration\",\"Interior Maintenance, Repair, & Decoration\",\"Housework\",\"Housework\",\"Housework\",\"Participating in Sports, Exercise, or Recreation\",\"Participating in Sports, Exercise, or Recreation\",\"Participating in Sports, Exercise, or Recreation\",\"Participating in Sports, Exercise, or Recreation\",\"Participating in Sports, Exercise, or Recreation\",\"Participating in Sports, Exercise, or Recreation\",\"Participating in Sports, Exercise, or Recreation\",\"Participating in Sports, Exercise, or Recreation\",\"Participating in Sports, Exercise, or Recreation\",\"Participating in Sports, Exercise, or Recreation\",\"Participating in Sports, Exercise, or Recreation\",\"Participating in Sports, Exercise, or Recreation\",\"Participating in Sports, Exercise, or Recreation\",\"Participating in Sports, Exercise, or Recreation\",\"Participating in Sports, Exercise, or Recreation\",\"Participating in Sports, Exercise, or Recreation\",\"Participating in Sports, Exercise, or Recreation\",\"Participating in Sports, Exercise, or Recreation\",\"Participating in Sports, Exercise, or Recreation\",\"Participating in Sports, Exercise, or Recreation\",\"Participating in Sports, Exercise, or Recreation\",\"Participating in Sports, Exercise, or Recreation\",\"Participating in Sports, Exercise, or Recreation\",\"Participating in Sports, Exercise, or Recreation\",\"Food & Drink Prep., Presentation, & Clean-up\",\"Food & Drink Prep., Presentation, & Clean-up\",\"Food & Drink Prep., Presentation, & Clean-up\",\"Household Management\",\"Grooming\",\"Grooming\",\"Arts and Entertainment\",\"Arts and Entertainment\",\"Arts and Entertainment\",\"Arts and Entertainment\",\"Arts and Entertainment\",\"Arts and Entertainment\",\"Animals and Pets\",\"Animals and Pets\",\"Dancing\",\"Dancing\",\"Dancing\",\"Dancing\",\"Doing gymnastics\",\"Doing gymnastics\",\"Doing gymnastics\",\"Doing gymnastics\",\"Doing gymnastics\",\"Walking / exercising / playing with animals\",\"Walking / exercising / playing with animals\",\"Walking / exercising / playing with animals\",\"Participating in martial arts\",\"Participating in martial arts\",\"Participating in martial arts\",\"Participating in martial arts\",\"Tobacco and drug use\",\"Tobacco and drug use\",\"Laundry\",\"Laundry\",\"Food and drink preparation \",\"Food and drink preparation \",\"Food and drink preparation \",\"Food and drink preparation \",\"Food and drink preparation \",\"Food and drink preparation \",\"Food and drink preparation \",\"Food and drink preparation \",\"Interior arrangement, decoration, & repairs\",\"Interior arrangement, decoration, & repairs\",\"Interior arrangement, decoration, & repairs\",\"Interior arrangement, decoration, & repairs\",\"Interior arrangement, decoration, & repairs\",\"Interior arrangement, decoration, & repairs\",\"Interior arrangement, decoration, & repairs\",\"Heating and cooling\",\"Weightlifting\",\"Weightlifting\",\"Interior cleaning\",\"Interior cleaning\",\"Interior cleaning\",\"Interior cleaning\",\"Washing, dressing and grooming\",\"Washing, dressing and grooming\",\"Washing, dressing and grooming\",\"Attending arts and entertainment\",\"Household & personal organization and planning\",\"Participating in water sports\",\"Participating in water sports\",\"Participating in water sports\",\"Participating in water sports\",\"Participating in water sports\",\"Participating in water sports\",\"Participating in water sports\",\"Participating in water sports\",\"Participating in water sports\",\"Participating in water sports\",\"Participating in water sports\",\"Kitchen and food clean-up\",\"Sewing, repairing, & maintaining textiles\",\"Sewing, repairing, & maintaining textiles\",\"Sewing, repairing, & maintaining textiles\",\"Eating and Drinking\",\"Eating and Drinking\",\"Playing games\",\"Playing games\",\"Playing games\",\"Playing games\",\"Playing games\",\"Playing games\",\"Playing games\",\"Playing games\",\"Playing games\",\"Playing games\",\"Playing games\",\"Playing games\",\"Playing games\",\"Playing games\",\"Participating in equestrian sports\",\"Participating in equestrian sports\",\"Climbing, spelunking, caving\",\"Exterior cleaning\",\"Playing racquet sports \",\"Playing racquet sports \",\"Playing racquet sports \",\"Playing racquet sports \",\"Playing racquet sports \",\"Doing aerobics\",\"Doing aerobics\",\"Vehicle repair and maintenance (by self)\",\"Vehicle repair and maintenance (by self)\",\"Vehicle repair and maintenance (by self)\",\"Using cardiovascular equipment\",\"Using cardiovascular equipment\",\"Using cardiovascular equipment\",\"Playing hockey\",\"Playing hockey\",\"Playing musical instruments\",\"Playing musical instruments\",\"Playing musical instruments\",\"Playing musical instruments\",\"Playing musical instruments\",\"Playing musical instruments\",\"Playing musical instruments\",\"Playing musical instruments\",\"Playing musical instruments\",\"Playing musical instruments\",\"Playing musical instruments\",\"Washing, dressing and grooming oneself\",\"Washing, dressing and grooming oneself\",\"Washing, dressing and grooming oneself\",\"Washing, dressing and grooming oneself\",\"Washing, dressing and grooming oneself\",\"Washing, dressing and grooming oneself\",\"Washing, dressing and grooming oneself\",\"Washing, dressing and grooming oneself\",\"Washing, dressing and grooming oneself\",\"Washing, dressing and grooming oneself\",\"Playing sports\",\"Playing sports\",\"Playing sports\",\"Playing sports\",\"Playing sports\",\"Playing sports\",\"Playing sports\",\"Playing sports\",\"Playing sports\",\"Playing sports\",\"Playing sports\",\"Playing sports\",\"Playing sports\",\"Playing sports\",\"Playing sports\",\"Playing sports\",\"Playing sports\",\"Playing sports\",\"Playing sports\",\"Playing sports\",\"Playing sports\",\"Playing sports\",\"Playing sports\",\"Playing sports\",\"Care for animals and pets (not veterinary care)\",\"Care for animals and pets (not veterinary care)\",\"Lawn, garden, and houseplant care\",\"Lawn, garden, and houseplant care\",\"Lawn, garden, and houseplant care\",\"Lawn, garden, and houseplant care\",\"Lawn, garden, and houseplant care\",\"Health-related Self Care\",\"Wrestling\",\"Wrestling\",\"Biking\",\"Playing soccer\",\"Playing soccer\",\"Beach activities\",\"Participating in rodeo competitions\",\"Participating in rodeo competitions\",\"Boating\",\"Boating\",\"Working out\",\"Working out\",\"Working out\",\"Fencing\",\"Exterior repair, improvements, & decoration\",\"Park activities\",\"Park activities\",\"Park activities\",\"Fishing\",\"Building and repairing furniture\",\"Playing volleyball\",\"Playing volleyball\",\"Attending gambling establishments\",\"Running\",\"Appliance, tool, and toy set-up, repair, & maintenance (by self)\",\"Appliance, tool, and toy set-up, repair, & maintenance (by self)\",\"Appliance, tool, and toy set-up, repair, & maintenance (by self)\",\"Appliances, Tools, and Toys\",\"Skiing, ice skating, snowboarding\",\"Skiing, ice skating, snowboarding\",\"Skiing, ice skating, snowboarding\"],\"type\":\"treemap\",\"root\":{\"color\":\"lightgrey\"}}],                        {\"template\":{\"data\":{\"histogram2dcontour\":[{\"type\":\"histogram2dcontour\",\"colorbar\":{\"outlinewidth\":0,\"ticks\":\"\"},\"colorscale\":[[0.0,\"#0d0887\"],[0.1111111111111111,\"#46039f\"],[0.2222222222222222,\"#7201a8\"],[0.3333333333333333,\"#9c179e\"],[0.4444444444444444,\"#bd3786\"],[0.5555555555555556,\"#d8576b\"],[0.6666666666666666,\"#ed7953\"],[0.7777777777777778,\"#fb9f3a\"],[0.8888888888888888,\"#fdca26\"],[1.0,\"#f0f921\"]]}],\"choropleth\":[{\"type\":\"choropleth\",\"colorbar\":{\"outlinewidth\":0,\"ticks\":\"\"}}],\"histogram2d\":[{\"type\":\"histogram2d\",\"colorbar\":{\"outlinewidth\":0,\"ticks\":\"\"},\"colorscale\":[[0.0,\"#0d0887\"],[0.1111111111111111,\"#46039f\"],[0.2222222222222222,\"#7201a8\"],[0.3333333333333333,\"#9c179e\"],[0.4444444444444444,\"#bd3786\"],[0.5555555555555556,\"#d8576b\"],[0.6666666666666666,\"#ed7953\"],[0.7777777777777778,\"#fb9f3a\"],[0.8888888888888888,\"#fdca26\"],[1.0,\"#f0f921\"]]}],\"heatmap\":[{\"type\":\"heatmap\",\"colorbar\":{\"outlinewidth\":0,\"ticks\":\"\"},\"colorscale\":[[0.0,\"#0d0887\"],[0.1111111111111111,\"#46039f\"],[0.2222222222222222,\"#7201a8\"],[0.3333333333333333,\"#9c179e\"],[0.4444444444444444,\"#bd3786\"],[0.5555555555555556,\"#d8576b\"],[0.6666666666666666,\"#ed7953\"],[0.7777777777777778,\"#fb9f3a\"],[0.8888888888888888,\"#fdca26\"],[1.0,\"#f0f921\"]]}],\"heatmapgl\":[{\"type\":\"heatmapgl\",\"colorbar\":{\"outlinewidth\":0,\"ticks\":\"\"},\"colorscale\":[[0.0,\"#0d0887\"],[0.1111111111111111,\"#46039f\"],[0.2222222222222222,\"#7201a8\"],[0.3333333333333333,\"#9c179e\"],[0.4444444444444444,\"#bd3786\"],[0.5555555555555556,\"#d8576b\"],[0.6666666666666666,\"#ed7953\"],[0.7777777777777778,\"#fb9f3a\"],[0.8888888888888888,\"#fdca26\"],[1.0,\"#f0f921\"]]}],\"contourcarpet\":[{\"type\":\"contourcarpet\",\"colorbar\":{\"outlinewidth\":0,\"ticks\":\"\"}}],\"contour\":[{\"type\":\"contour\",\"colorbar\":{\"outlinewidth\":0,\"ticks\":\"\"},\"colorscale\":[[0.0,\"#0d0887\"],[0.1111111111111111,\"#46039f\"],[0.2222222222222222,\"#7201a8\"],[0.3333333333333333,\"#9c179e\"],[0.4444444444444444,\"#bd3786\"],[0.5555555555555556,\"#d8576b\"],[0.6666666666666666,\"#ed7953\"],[0.7777777777777778,\"#fb9f3a\"],[0.8888888888888888,\"#fdca26\"],[1.0,\"#f0f921\"]]}],\"surface\":[{\"type\":\"surface\",\"colorbar\":{\"outlinewidth\":0,\"ticks\":\"\"},\"colorscale\":[[0.0,\"#0d0887\"],[0.1111111111111111,\"#46039f\"],[0.2222222222222222,\"#7201a8\"],[0.3333333333333333,\"#9c179e\"],[0.4444444444444444,\"#bd3786\"],[0.5555555555555556,\"#d8576b\"],[0.6666666666666666,\"#ed7953\"],[0.7777777777777778,\"#fb9f3a\"],[0.8888888888888888,\"#fdca26\"],[1.0,\"#f0f921\"]]}],\"mesh3d\":[{\"type\":\"mesh3d\",\"colorbar\":{\"outlinewidth\":0,\"ticks\":\"\"}}],\"scatter\":[{\"fillpattern\":{\"fillmode\":\"overlay\",\"size\":10,\"solidity\":0.2},\"type\":\"scatter\"}],\"parcoords\":[{\"type\":\"parcoords\",\"line\":{\"colorbar\":{\"outlinewidth\":0,\"ticks\":\"\"}}}],\"scatterpolargl\":[{\"type\":\"scatterpolargl\",\"marker\":{\"colorbar\":{\"outlinewidth\":0,\"ticks\":\"\"}}}],\"bar\":[{\"error_x\":{\"color\":\"#2a3f5f\"},\"error_y\":{\"color\":\"#2a3f5f\"},\"marker\":{\"line\":{\"color\":\"#E5ECF6\",\"width\":0.5},\"pattern\":{\"fillmode\":\"overlay\",\"size\":10,\"solidity\":0.2}},\"type\":\"bar\"}],\"scattergeo\":[{\"type\":\"scattergeo\",\"marker\":{\"colorbar\":{\"outlinewidth\":0,\"ticks\":\"\"}}}],\"scatterpolar\":[{\"type\":\"scatterpolar\",\"marker\":{\"colorbar\":{\"outlinewidth\":0,\"ticks\":\"\"}}}],\"histogram\":[{\"marker\":{\"pattern\":{\"fillmode\":\"overlay\",\"size\":10,\"solidity\":0.2}},\"type\":\"histogram\"}],\"scattergl\":[{\"type\":\"scattergl\",\"marker\":{\"colorbar\":{\"outlinewidth\":0,\"ticks\":\"\"}}}],\"scatter3d\":[{\"type\":\"scatter3d\",\"line\":{\"colorbar\":{\"outlinewidth\":0,\"ticks\":\"\"}},\"marker\":{\"colorbar\":{\"outlinewidth\":0,\"ticks\":\"\"}}}],\"scattermapbox\":[{\"type\":\"scattermapbox\",\"marker\":{\"colorbar\":{\"outlinewidth\":0,\"ticks\":\"\"}}}],\"scatterternary\":[{\"type\":\"scatterternary\",\"marker\":{\"colorbar\":{\"outlinewidth\":0,\"ticks\":\"\"}}}],\"scattercarpet\":[{\"type\":\"scattercarpet\",\"marker\":{\"colorbar\":{\"outlinewidth\":0,\"ticks\":\"\"}}}],\"carpet\":[{\"aaxis\":{\"endlinecolor\":\"#2a3f5f\",\"gridcolor\":\"white\",\"linecolor\":\"white\",\"minorgridcolor\":\"white\",\"startlinecolor\":\"#2a3f5f\"},\"baxis\":{\"endlinecolor\":\"#2a3f5f\",\"gridcolor\":\"white\",\"linecolor\":\"white\",\"minorgridcolor\":\"white\",\"startlinecolor\":\"#2a3f5f\"},\"type\":\"carpet\"}],\"table\":[{\"cells\":{\"fill\":{\"color\":\"#EBF0F8\"},\"line\":{\"color\":\"white\"}},\"header\":{\"fill\":{\"color\":\"#C8D4E3\"},\"line\":{\"color\":\"white\"}},\"type\":\"table\"}],\"barpolar\":[{\"marker\":{\"line\":{\"color\":\"#E5ECF6\",\"width\":0.5},\"pattern\":{\"fillmode\":\"overlay\",\"size\":10,\"solidity\":0.2}},\"type\":\"barpolar\"}],\"pie\":[{\"automargin\":true,\"type\":\"pie\"}]},\"layout\":{\"autotypenumbers\":\"strict\",\"colorway\":[\"#636efa\",\"#EF553B\",\"#00cc96\",\"#ab63fa\",\"#FFA15A\",\"#19d3f3\",\"#FF6692\",\"#B6E880\",\"#FF97FF\",\"#FECB52\"],\"font\":{\"color\":\"#2a3f5f\"},\"hovermode\":\"closest\",\"hoverlabel\":{\"align\":\"left\"},\"paper_bgcolor\":\"white\",\"plot_bgcolor\":\"#E5ECF6\",\"polar\":{\"bgcolor\":\"#E5ECF6\",\"angularaxis\":{\"gridcolor\":\"white\",\"linecolor\":\"white\",\"ticks\":\"\"},\"radialaxis\":{\"gridcolor\":\"white\",\"linecolor\":\"white\",\"ticks\":\"\"}},\"ternary\":{\"bgcolor\":\"#E5ECF6\",\"aaxis\":{\"gridcolor\":\"white\",\"linecolor\":\"white\",\"ticks\":\"\"},\"baxis\":{\"gridcolor\":\"white\",\"linecolor\":\"white\",\"ticks\":\"\"},\"caxis\":{\"gridcolor\":\"white\",\"linecolor\":\"white\",\"ticks\":\"\"}},\"coloraxis\":{\"colorbar\":{\"outlinewidth\":0,\"ticks\":\"\"}},\"colorscale\":{\"sequential\":[[0.0,\"#0d0887\"],[0.1111111111111111,\"#46039f\"],[0.2222222222222222,\"#7201a8\"],[0.3333333333333333,\"#9c179e\"],[0.4444444444444444,\"#bd3786\"],[0.5555555555555556,\"#d8576b\"],[0.6666666666666666,\"#ed7953\"],[0.7777777777777778,\"#fb9f3a\"],[0.8888888888888888,\"#fdca26\"],[1.0,\"#f0f921\"]],\"sequentialminus\":[[0.0,\"#0d0887\"],[0.1111111111111111,\"#46039f\"],[0.2222222222222222,\"#7201a8\"],[0.3333333333333333,\"#9c179e\"],[0.4444444444444444,\"#bd3786\"],[0.5555555555555556,\"#d8576b\"],[0.6666666666666666,\"#ed7953\"],[0.7777777777777778,\"#fb9f3a\"],[0.8888888888888888,\"#fdca26\"],[1.0,\"#f0f921\"]],\"diverging\":[[0,\"#8e0152\"],[0.1,\"#c51b7d\"],[0.2,\"#de77ae\"],[0.3,\"#f1b6da\"],[0.4,\"#fde0ef\"],[0.5,\"#f7f7f7\"],[0.6,\"#e6f5d0\"],[0.7,\"#b8e186\"],[0.8,\"#7fbc41\"],[0.9,\"#4d9221\"],[1,\"#276419\"]]},\"xaxis\":{\"gridcolor\":\"white\",\"linecolor\":\"white\",\"ticks\":\"\",\"title\":{\"standoff\":15},\"zerolinecolor\":\"white\",\"automargin\":true,\"zerolinewidth\":2},\"yaxis\":{\"gridcolor\":\"white\",\"linecolor\":\"white\",\"ticks\":\"\",\"title\":{\"standoff\":15},\"zerolinecolor\":\"white\",\"automargin\":true,\"zerolinewidth\":2},\"scene\":{\"xaxis\":{\"backgroundcolor\":\"#E5ECF6\",\"gridcolor\":\"white\",\"linecolor\":\"white\",\"showbackground\":true,\"ticks\":\"\",\"zerolinecolor\":\"white\",\"gridwidth\":2},\"yaxis\":{\"backgroundcolor\":\"#E5ECF6\",\"gridcolor\":\"white\",\"linecolor\":\"white\",\"showbackground\":true,\"ticks\":\"\",\"zerolinecolor\":\"white\",\"gridwidth\":2},\"zaxis\":{\"backgroundcolor\":\"#E5ECF6\",\"gridcolor\":\"white\",\"linecolor\":\"white\",\"showbackground\":true,\"ticks\":\"\",\"zerolinecolor\":\"white\",\"gridwidth\":2}},\"shapedefaults\":{\"line\":{\"color\":\"#2a3f5f\"}},\"annotationdefaults\":{\"arrowcolor\":\"#2a3f5f\",\"arrowhead\":0,\"arrowwidth\":1},\"geo\":{\"bgcolor\":\"white\",\"landcolor\":\"#E5ECF6\",\"subunitcolor\":\"white\",\"showland\":true,\"showlakes\":true,\"lakecolor\":\"white\"},\"title\":{\"x\":0.05},\"mapbox\":{\"style\":\"light\"}}},\"legend\":{\"tracegroupgap\":0},\"margin\":{\"t\":50,\"l\":25,\"r\":25,\"b\":25},\"font\":{\"family\":\"arial\",\"size\":16},\"width\":1000,\"height\":600},                        {\"responsive\": true}                    ).then(function(){\n",
       "                            \n",
       "var gd = document.getElementById('0ad094c3-3c1e-4a0a-9b24-5e2d44634a4a');\n",
       "var x = new MutationObserver(function (mutations, observer) {{\n",
       "        var display = window.getComputedStyle(gd).display;\n",
       "        if (!display || display === 'none') {{\n",
       "            console.log([gd, 'removed!']);\n",
       "            Plotly.purge(gd);\n",
       "            observer.disconnect();\n",
       "        }}\n",
       "}});\n",
       "\n",
       "// Listen for the removal of the full notebook cells\n",
       "var notebookContainer = gd.closest('#notebook-container');\n",
       "if (notebookContainer) {{\n",
       "    x.observe(notebookContainer, {childList: true});\n",
       "}}\n",
       "\n",
       "// Listen for the clearing of the current output cell\n",
       "var outputEl = gd.closest('.output');\n",
       "if (outputEl) {{\n",
       "    x.observe(outputEl, {childList: true});\n",
       "}}\n",
       "\n",
       "                        })                };                });            </script>        </div>"
      ]
     },
     "metadata": {},
     "output_type": "display_data"
    }
   ],
   "source": [
    "node_name = hierarchy['nodeName'].to_list()\n",
    "parent_name = hierarchy['parentName'].to_list()\n",
    "node_name[0] = 'HAD 180 categories'\n",
    "node_name[0] = 'HAD 180 categories'\n",
    "\n",
    "fig = px.treemap(\n",
    "    names = node_name,\n",
    "    parents = parent_name\n",
    ")\n",
    "fig.update_traces(root_color=\"lightgrey\")\n",
    "fig.update_layout(margin = dict(t=50, l=25, r=25, b=25), width=1000, height=600,\n",
    "                  font = dict(family='arial', size=16))\n",
    "fig.show()"
   ]
  }
 ],
 "metadata": {
  "kernelspec": {
   "display_name": "Python 3.8.5 ('base')",
   "language": "python",
   "name": "python3"
  },
  "language_info": {
   "codemirror_mode": {
    "name": "ipython",
    "version": 3
   },
   "file_extension": ".py",
   "mimetype": "text/x-python",
   "name": "python",
   "nbconvert_exporter": "python",
   "pygments_lexer": "ipython3",
   "version": "3.8.5"
  },
  "orig_nbformat": 4,
  "vscode": {
   "interpreter": {
    "hash": "ded51e6ae5fb79fea0b0420ae45d65595baa7e9f6ec8445524f1c7cb23aaaa4c"
   }
  }
 },
 "nbformat": 4,
 "nbformat_minor": 2
}
