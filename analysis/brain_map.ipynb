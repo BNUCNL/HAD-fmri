{
 "cells": [
  {
   "cell_type": "code",
   "execution_count": 1,
   "metadata": {},
   "outputs": [
    {
     "name": "stderr",
     "output_type": "stream",
     "text": [
      "/usr/local/neurosoft/anaconda3/lib/python3.8/site-packages/nilearn/glm/__init__.py:55: FutureWarning: The nilearn.glm module is experimental. It may change in any future release of Nilearn.\n",
      "  warn('The nilearn.glm module is experimental. '\n"
     ]
    }
   ],
   "source": [
    "import os\n",
    "import json\n",
    "import subprocess\n",
    "import numpy as np\n",
    "import pandas as pd\n",
    "import pickle as pkl\n",
    "import nibabel as nib\n",
    "import scipy.io as sio\n",
    "import matplotlib as mpl\n",
    "import matplotlib.pyplot as plt\n",
    "from sklearn.metrics import pairwise_distances\n",
    "from os.path import join as pjoin\n",
    "from mpl_toolkits.axes_grid1 import make_axes_locatable\n",
    "from sklearn.preprocessing import StandardScaler\n",
    "from sklearn.linear_model import LinearRegression, Ridge, Lasso\n",
    "from nilearn.glm.first_level import make_first_level_design_matrix\n",
    "\n",
    "mpl.rcParams['axes.linewidth'] = 2\n",
    "mpl.rcParams.update({'font.size': 12, 'font.family': 'STIXGeneral', 'mathtext.fontset': 'stix'})\n",
    "\n",
    "def save_ciftifile(data, filename):\n",
    "    template = '/nfs/z1/zhenlab/BrainImageNet/NaturalObject/data/bold/Analysis_derivatives/ciftify/sub-core02/MNINonLinear/Results/ses-ImageNet01_task-object_run-1/ses-ImageNet01_task-object_run-1_Atlas.dtseries.nii'\n",
    "    ex_cii = nib.load(template)\n",
    "    ex_cii.header.get_index_map(0).number_of_series_points = data.shape[0]\n",
    "    nib.save(nib.Cifti2Image(data.astype(np.float32), ex_cii.header), filename)\n",
    "\n",
    "# define path\n",
    "beta_path = '/nfs/z1/zhenlab/BrainImageNet/action/data/bold/derivatives/beta'\n",
    "fmriprep_path = '/nfs/z1/zhenlab/BrainImageNet/action/data/bold/derivatives/fmriprep'\n",
    "ciftify_path = '/nfs/z1/zhenlab/BrainImageNet/action/data/bold/derivatives/ciftify'\n",
    "nifti_path = '/nfs/z1/zhenlab/BrainImageNet/action/data/bold/nifti'\n",
    "result_path = '/nfs/z1/userhome/ZhouMing/workingdir/BIN/action/utils/HAD/result'"
   ]
  },
  {
   "cell_type": "code",
   "execution_count": 3,
   "metadata": {},
   "outputs": [
    {
     "name": "stdout",
     "output_type": "stream",
     "text": [
      "Finish sub-01\n",
      "Finish sub-02\n",
      "Finish sub-03\n",
      "Finish sub-04\n",
      "Finish sub-05\n",
      "Finish sub-06\n",
      "Finish sub-07\n",
      "Finish sub-08\n",
      "Finish sub-09\n",
      "Finish sub-10\n",
      "Finish sub-11\n",
      "Finish sub-12\n",
      "Finish sub-13\n",
      "Finish sub-14\n",
      "Finish sub-15\n",
      "Finish sub-16\n",
      "Finish sub-17\n",
      "Finish sub-18\n",
      "Finish sub-19\n",
      "Finish sub-20\n",
      "Finish sub-21\n",
      "Finish sub-22\n",
      "Finish sub-23\n",
      "Finish sub-24\n",
      "Finish sub-25\n",
      "Finish sub-26\n",
      "Finish sub-27\n",
      "Finish sub-28\n",
      "Finish sub-29\n",
      "Finish sub-30\n"
     ]
    }
   ],
   "source": [
    "from scipy.stats import pearsonr\n",
    "\n",
    "# Load beta for 30 subjects \n",
    "sub_names = sorted([i for i in os.listdir(beta_path) if i.startswith('sub')])\n",
    "mask_sum = ['EVC', 'VTC', 'LO', 'AIP']\n",
    "n_sub = len(sub_names)\n",
    "n_class = 180\n",
    "\n",
    "beta_sum = np.zeros((n_sub, n_class, 59412))\n",
    "for sub_idx, sub_name in enumerate(sub_names):\n",
    "    # define beta path\n",
    "    beta_sub_path = pjoin(beta_path, sub_name, f'{sub_name}_action-beta_clean.npy')\n",
    "    beta_sub = np.load(beta_sub_path)\n",
    "    scaler = StandardScaler()\n",
    "    beta_sum[sub_idx] = scaler.fit_transform(beta_sub)\n",
    "    print(f'Finish {sub_name}')\n",
    "\n",
    "beta_sum = beta_sum.mean(axis=0)"
   ]
  },
  {
   "cell_type": "code",
   "execution_count": 2,
   "metadata": {},
   "outputs": [],
   "source": [
    "# load animacy labels\n",
    "beh_path = '/nfs/z1/userhome/ZhouMing/workingdir/BIN/utils/action_spaces/behavior'\n",
    "beh_df = pd.read_csv(pjoin(beh_path, 'dim_scores.csv'), index_col=0)\n",
    "beh_df['mean_score'] = beh_df.iloc[:, 2:].mean(axis=1)\n",
    "beh_df = beh_df.drop(beh_df.columns[2:22], axis=1)\n",
    "beh_df = beh_df.sort_values(by='class')"
   ]
  },
  {
   "cell_type": "markdown",
   "metadata": {},
   "source": [
    "#### Generate brain map using contrast substraction"
   ]
  },
  {
   "cell_type": "code",
   "execution_count": null,
   "metadata": {},
   "outputs": [],
   "source": [
    "dims = ['transitivity', 'sociality']\n",
    "brain_map = np.zeros((2, beta_sum.shape[1]))\n",
    "for dim_idx, dim in enumerate(dims):\n",
    "    # get label\n",
    "    dim_score = beh_df.loc[beh_df['dim']==dim, 'mean_score'].to_numpy()\n",
    "    dim_content = np.array([1 if item > 4 else 0 for item in dim_score])\n",
    "    # # compute brain map\n",
    "    brain_map = np.zeros((1, 91282))\n",
    "    brain_map[0, :59412] = beta_sum[dim_content==1].mean(axis=0) - beta_sum[dim_content==0].mean(axis=0)\n",
    "    save_ciftifile(brain_map, pjoin(result_path, f'{dim}_map.dtseries.nii'))\n",
    "    print('%s map threshold: left: %.2f; right: %.2f'%(dim, brain_map.squeeze()[:59412].mean() - brain_map.squeeze()[:59412].std(),\n",
    "                                                       brain_map.squeeze()[:59412].mean() + brain_map.squeeze()[:59412].std()))\n"
   ]
  },
  {
   "cell_type": "markdown",
   "metadata": {},
   "source": [
    "#### Generate brain map using correlation"
   ]
  },
  {
   "cell_type": "code",
   "execution_count": 6,
   "metadata": {},
   "outputs": [],
   "source": [
    "from scipy.stats import pearsonr\n",
    "import subprocess\n",
    "\n",
    "dims = ['transitivity', 'sociality']\n",
    "brain_map = np.zeros((2, beta_sum.shape[1]))\n",
    "p_value = 0.05\n",
    "smooth_kernel = 8\n",
    "\n",
    "for dim_idx, dim in enumerate(dims):\n",
    "    # get label\n",
    "    dim_score = beh_df.loc[beh_df['dim']==dim, 'mean_score'].to_numpy()\n",
    "    # # compute brain map\n",
    "    brain_map = np.zeros((1, 91282))\n",
    "    for voxel_idx in range(59412):\n",
    "        corr_info = pearsonr(beta_sum[:, voxel_idx], dim_score)\n",
    "        if corr_info[1] < p_value:\n",
    "            brain_map[0, voxel_idx] = corr_info[0]\n",
    "    # smooth the target map\n",
    "    out_file = pjoin(result_path, 'brain_map', f'{dim}_map_corr_smooth.dtseries.nii')\n",
    "    save_ciftifile(brain_map, out_file)\n",
    "    fsl_cmd = f'fslmaths {out_file} -s {smooth_kernel} -save'\n",
    "    subprocess.check_call(fsl_cmd, shell=True)\n"
   ]
  }
 ],
 "metadata": {
  "kernelspec": {
   "display_name": "Python 3.8.5 ('base')",
   "language": "python",
   "name": "python3"
  },
  "language_info": {
   "codemirror_mode": {
    "name": "ipython",
    "version": 3
   },
   "file_extension": ".py",
   "mimetype": "text/x-python",
   "name": "python",
   "nbconvert_exporter": "python",
   "pygments_lexer": "ipython3",
   "version": "3.8.5"
  },
  "orig_nbformat": 4,
  "vscode": {
   "interpreter": {
    "hash": "ded51e6ae5fb79fea0b0420ae45d65595baa7e9f6ec8445524f1c7cb23aaaa4c"
   }
  }
 },
 "nbformat": 4,
 "nbformat_minor": 2
}
