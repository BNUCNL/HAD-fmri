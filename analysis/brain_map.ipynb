{
 "cells": [
  {
   "cell_type": "code",
   "execution_count": 1,
   "metadata": {},
   "outputs": [
    {
     "name": "stdout",
     "output_type": "stream",
     "text": [
      "ds directory : /nfs/z1/userhome/ZhouMing/workingdir/BIN/action/MEG/raw_meg/sub-01/ses-1/meg/sub-01_ses-1_task-action_run-01_meg.ds\n",
      "    res4 data read.\n",
      "    hc data read.\n",
      "    Separate EEG position data file read.\n",
      "    Quaternion matching (desired vs. transformed):\n",
      "       6.03   88.03    0.00 mm <->    6.03   88.03    0.00 mm (orig :  -52.08   68.00 -284.59 mm) diff =    0.000 mm\n",
      "      -6.03  -88.03    0.00 mm <->   -6.03  -88.03    0.00 mm (orig :   61.15  -67.21 -290.74 mm) diff =    0.000 mm\n",
      "     103.73    0.00    0.00 mm <->  103.73    0.00    0.00 mm (orig :   73.68   65.67 -246.22 mm) diff =    0.000 mm\n",
      "    Coordinate transformations established.\n",
      "    Polhemus data for 3 HPI coils added\n",
      "    Device coordinate locations for 3 HPI coils added\n",
      "    Measurement info composed.\n",
      "Finding samples for /nfs/z1/userhome/ZhouMing/workingdir/BIN/action/MEG/raw_meg/sub-01/ses-1/meg/sub-01_ses-1_task-action_run-01_meg.ds/sub-01_ses-1_task-action_run-01_meg.meg4: \n",
      "    System clock channel is available, checking which samples are valid.\n",
      "    1 x 432000 = 432000 samples from 409 chs\n",
      "Current compensation grade : 3\n"
     ]
    }
   ],
   "source": [
    "import mne\n",
    "\n",
    "file = '/nfs/z1/userhome/ZhouMing/workingdir/BIN/action/MEG/raw_meg/sub-01/ses-1/meg/sub-01_ses-1_task-action_run-01_meg.ds'\n",
    "raw = mne.io.read_raw_ctf(file)"
   ]
  },
  {
   "cell_type": "code",
   "execution_count": 2,
   "metadata": {},
   "outputs": [
    {
     "data": {
      "text/html": [
       "\n",
       "<table class=\"table table-hover table-striped table-sm table-responsive small\">\n",
       "    <tr>\n",
       "        <th>Measurement date</th>\n",
       "        <td>November 18, 2021  14:44:00 GMT</td>\n",
       "        \n",
       "    </tr>\n",
       "    <tr>\n",
       "        <th>Experimenter</th>\n",
       "        <td>xyfeng</td>\n",
       "        \n",
       "    </tr>\n",
       "        <th>Participant</th>\n",
       "            <td>S01</td>\n",
       "        \n",
       "    </tr>\n",
       "    <tr>\n",
       "        <th>Digitized points</th>\n",
       "        <td>3 points</td>\n",
       "    </tr>\n",
       "    <tr>\n",
       "        <th>Good channels</th>\n",
       "        <td>108 misc, 28 Reference Magnetometers, 273 Magnetometers</td>\n",
       "    </tr>\n",
       "    <tr>\n",
       "        <th>Bad channels</th>\n",
       "        <td>None</td>\n",
       "    </tr>\n",
       "    <tr>\n",
       "        <th>EOG channels</th>\n",
       "        <td>Not available</td>\n",
       "    </tr>\n",
       "    <tr>\n",
       "        <th>ECG channels</th>\n",
       "        <td>Not available</td>\n",
       "    <tr>\n",
       "        <th>Sampling frequency</th>\n",
       "        <td>1200.00 Hz</td>\n",
       "    </tr>\n",
       "    <tr>\n",
       "        <th>Highpass</th>\n",
       "        <td>0.00 Hz</td>\n",
       "    </tr>\n",
       "    <tr>\n",
       "        <th>Lowpass</th>\n",
       "        <td>600.00 Hz</td>\n",
       "    </tr>\n",
       "</table>\n"
      ],
      "text/plain": [
       "<Info | 16 non-empty values\n",
       " bads: []\n",
       " ch_names: SCLK01-177, BG1-4504, BG2-4504, BG3-4504, BP1-4504, BP2-4504, ...\n",
       " chs: 108 misc, 28 Reference Magnetometers, 273 Magnetometers\n",
       " comps: 5 items (list)\n",
       " ctf_head_t: CTF/4D/KIT head -> head transform\n",
       " custom_ref_applied: False\n",
       " dev_ctf_t: MEG device -> CTF/4D/KIT head transform\n",
       " dev_head_t: MEG device -> head transform\n",
       " dig: 3 items (3 Cardinal)\n",
       " experimenter: xyfeng\n",
       " highpass: 0.0 Hz\n",
       " hpi_results: 1 item (list)\n",
       " lowpass: 600.0 Hz\n",
       " meas_date: 2021-11-18 14:44:00 UTC\n",
       " meas_id: 4 items (dict)\n",
       " nchan: 409\n",
       " projs: []\n",
       " sfreq: 1200.0 Hz\n",
       " subject_info: 1 item (dict)\n",
       ">"
      ]
     },
     "execution_count": 2,
     "metadata": {},
     "output_type": "execute_result"
    }
   ],
   "source": [
    "raw.info"
   ]
  },
  {
   "cell_type": "code",
   "execution_count": 2,
   "metadata": {},
   "outputs": [],
   "source": [
    "import os\n",
    "import json\n",
    "import subprocess\n",
    "import numpy as np\n",
    "import pandas as pd\n",
    "import pickle as pkl\n",
    "import nibabel as nib\n",
    "import scipy.io as sio\n",
    "import matplotlib as mpl\n",
    "import matplotlib.pyplot as plt\n",
    "from sklearn.metrics import pairwise_distances\n",
    "from os.path import join as pjoin\n",
    "from mpl_toolkits.axes_grid1 import make_axes_locatable\n",
    "from sklearn.preprocessing import StandardScaler\n",
    "from sklearn.linear_model import LinearRegression, Ridge, Lasso\n",
    "from nilearn.glm.first_level import make_first_level_design_matrix\n",
    "\n",
    "mpl.rcParams['axes.linewidth'] = 2\n",
    "mpl.rcParams.update({'font.size': 12, 'font.family': 'STIXGeneral', 'mathtext.fontset': 'stix'})\n",
    "\n",
    "def save_ciftifile(data, filename):\n",
    "    template = '/nfs/z1/zhenlab/BrainImageNet/NaturalObject/data/bold/Analysis_derivatives/ciftify/sub-core02/MNINonLinear/Results/ses-ImageNet01_task-object_run-1/ses-ImageNet01_task-object_run-1_Atlas.dtseries.nii'\n",
    "    ex_cii = nib.load(template)\n",
    "    ex_cii.header.get_index_map(0).number_of_series_points = data.shape[0]\n",
    "    nib.save(nib.Cifti2Image(data.astype(np.float32), ex_cii.header), filename)\n",
    "\n",
    "# define path\n",
    "beta_path = '/nfs/z1/zhenlab/BrainImageNet/action/data/bold/derivatives/beta'\n",
    "fmriprep_path = '/nfs/z1/zhenlab/BrainImageNet/action/data/bold/derivatives/fmriprep'\n",
    "ciftify_path = '/nfs/z1/zhenlab/BrainImageNet/action/data/bold/derivatives/ciftify'\n",
    "nifti_path = '/nfs/z1/zhenlab/BrainImageNet/action/data/bold/nifti'\n",
    "result_path = '/nfs/z1/userhome/ZhouMing/workingdir/BIN/action/utils/data_paper/result'"
   ]
  },
  {
   "cell_type": "code",
   "execution_count": 3,
   "metadata": {},
   "outputs": [],
   "source": [
    "from scipy.stats import pearsonr\n",
    "\n",
    "# Load beta for 30 subjects \n",
    "sub_names = sorted([i for i in os.listdir(beta_path) if i.startswith('sub')])\n",
    "mask_sum = ['EVC', 'VTC', 'LO', 'AIP']\n",
    "n_sub = len(sub_names)\n",
    "n_class = 180\n",
    "\n",
    "beta_sum = np.zeros((n_sub, n_class, 59412))\n",
    "for sub_idx, sub_name in enumerate(sub_names):\n",
    "    # define beta path\n",
    "    beta_sub_path = pjoin(beta_path, sub_name, f'{sub_name}_action-beta_clean.npy')\n",
    "    beta_sub = np.load(beta_sub_path)\n",
    "    scaler = StandardScaler()\n",
    "    beta_sum[sub_idx] = scaler.fit_transform(beta_sub)\n",
    "\n",
    "beta_sum = beta_sum.mean(axis=0)"
   ]
  },
  {
   "cell_type": "code",
   "execution_count": 4,
   "metadata": {},
   "outputs": [],
   "source": [
    "# load animacy labels\n",
    "beh_path = '/nfs/z1/userhome/ZhouMing/workingdir/BIN/utils/action_spaces/behavior'\n",
    "beh_df = pd.read_csv(pjoin(beh_path, 'dim_scores.csv'), index_col=0)\n",
    "beh_df['mean_score'] = beh_df.iloc[:, 2:].mean(axis=1)\n",
    "beh_df = beh_df.drop(beh_df.columns[2:22], axis=1)\n",
    "beh_df = beh_df.sort_values(by='class')"
   ]
  },
  {
   "cell_type": "code",
   "execution_count": 15,
   "metadata": {},
   "outputs": [
    {
     "name": "stdout",
     "output_type": "stream",
     "text": [
      "transitivity map threshold: left: -0.08; right: 0.09\n",
      "sociality map threshold: left: -0.05; right: 0.06\n"
     ]
    }
   ],
   "source": [
    "dims = ['transitivity', 'sociality']\n",
    "brain_map = np.zeros((2, beta_sum.shape[1]))\n",
    "for dim_idx, dim in enumerate(dims):\n",
    "    # get label\n",
    "    dim_score = beh_df.loc[beh_df['dim']==dim, 'mean_score'].to_numpy()\n",
    "    dim_content = np.array([1 if item > 4 else 0 for item in dim_score])\n",
    "    # compute brain map\n",
    "    brain_map = np.zeros((1, 91282))\n",
    "    brain_map[0, :59412] = beta_sum[dim_content==1].mean(axis=0) - beta_sum[dim_content==0].mean(axis=0)\n",
    "    save_ciftifile(brain_map, pjoin(result_path, f'{dim}_map.dtseries.nii'))\n",
    "    print('%s map threshold: left: %.2f; right: %.2f'%(dim, brain_map.squeeze()[:59412].mean() - brain_map.squeeze()[:59412].std(),\n",
    "                                                       brain_map.squeeze()[:59412].mean() + brain_map.squeeze()[:59412].std()))\n"
   ]
  }
 ],
 "metadata": {
  "kernelspec": {
   "display_name": "Python 3.8.5 ('base')",
   "language": "python",
   "name": "python3"
  },
  "language_info": {
   "codemirror_mode": {
    "name": "ipython",
    "version": 3
   },
   "file_extension": ".py",
   "mimetype": "text/x-python",
   "name": "python",
   "nbconvert_exporter": "python",
   "pygments_lexer": "ipython3",
   "version": "3.8.5"
  },
  "orig_nbformat": 4,
  "vscode": {
   "interpreter": {
    "hash": "ded51e6ae5fb79fea0b0420ae45d65595baa7e9f6ec8445524f1c7cb23aaaa4c"
   }
  }
 },
 "nbformat": 4,
 "nbformat_minor": 2
}
